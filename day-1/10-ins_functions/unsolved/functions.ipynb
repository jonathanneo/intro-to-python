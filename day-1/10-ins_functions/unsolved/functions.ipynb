{
 "cells": [
  {
   "cell_type": "markdown",
   "source": [
    "# What are functions\r\n",
    "\r\n",
    "A function is a block of code which only runs when called. \r\n",
    "\r\n",
    "You can pass data, known as parameters, into a function. (INPUT)\r\n",
    "\r\n",
    "A function can return data as a result. (OUTPUT)"
   ],
   "metadata": {}
  },
  {
   "cell_type": "code",
   "execution_count": null,
   "source": [
    "# write the function"
   ],
   "outputs": [],
   "metadata": {}
  },
  {
   "cell_type": "code",
   "execution_count": null,
   "source": [
    "# call the function\r\n"
   ],
   "outputs": [],
   "metadata": {}
  },
  {
   "cell_type": "markdown",
   "source": [
    "## Functions with inputs"
   ],
   "metadata": {}
  },
  {
   "cell_type": "code",
   "execution_count": null,
   "source": [
    "# define a function here"
   ],
   "outputs": [],
   "metadata": {}
  },
  {
   "cell_type": "code",
   "execution_count": null,
   "source": [
    "# call the function - positional arguments"
   ],
   "outputs": [],
   "metadata": {}
  },
  {
   "cell_type": "code",
   "execution_count": null,
   "source": [
    "# call the function - keyword arguments \r\n"
   ],
   "outputs": [],
   "metadata": {}
  },
  {
   "cell_type": "code",
   "execution_count": null,
   "source": [
    "# function does not return outputs yet \r\n"
   ],
   "outputs": [],
   "metadata": {}
  },
  {
   "cell_type": "markdown",
   "source": [
    "## Functions with outputs\r\n",
    "\r\n"
   ],
   "metadata": {}
  },
  {
   "cell_type": "code",
   "execution_count": null,
   "source": [
    "# define a function with output\r\n"
   ],
   "outputs": [],
   "metadata": {}
  },
  {
   "cell_type": "code",
   "execution_count": null,
   "source": [
    "# function now returns an output "
   ],
   "outputs": [],
   "metadata": {}
  },
  {
   "cell_type": "markdown",
   "source": [
    "## Using functions in practice\r\n",
    "\r\n",
    "In practice, functions are a very useful tool to store reusable code. \r\n",
    "\r\n",
    "The D.R.Y. principle in programming is aimed at reducing repetition of code. "
   ],
   "metadata": {}
  },
  {
   "cell_type": "code",
   "execution_count": null,
   "source": [
    "all_players = [\r\n",
    "    {'Name': 'Cristiano Ronaldo', 'National_Position': 'LS', 'Rating': 94, 'Freekick_Accuracy': 76, 'Penalties': 85}, \r\n",
    "    {'Name': 'Lionel Messi', 'National_Position': 'RW', 'Rating': 93, 'Freekick_Accuracy': 90, 'Penalties': 74}, \r\n",
    "    {'Name': 'Neymar', 'National_Position': 'LW', 'Rating': 92, 'Freekick_Accuracy': 84, 'Penalties': 81}, \r\n",
    "    {'Name': 'Luis Suárez', 'National_Position': 'LS', 'Rating': 92, 'Freekick_Accuracy': 84, 'Penalties': 85}, \r\n",
    "    {'Name': 'Manuel Neuer', 'National_Position': 'GK', 'Rating': 92, 'Freekick_Accuracy': 11, 'Penalties': 47}, \r\n",
    "    {'Name': 'De Gea', 'National_Position': 'GK', 'Rating': 90, 'Freekick_Accuracy': 19, 'Penalties': 40}, \r\n",
    "    {'Name': 'Robert Lewandowski', 'National_Position': 'LS', 'Rating': 90, 'Freekick_Accuracy': 76, 'Penalties': 81}, \r\n",
    "    {'Name': 'Gareth Bale', 'National_Position': 'RS', 'Rating': 90, 'Freekick_Accuracy': 85, 'Penalties': 76}, \r\n",
    "    {'Name': 'Zlatan Ibrahimović', 'National_Position': \"LS\", 'Rating': 90, 'Freekick_Accuracy': 82, 'Penalties': 91}, \r\n",
    "    {'Name': 'Thibaut Courtois', 'National_Position': 'GK', 'Rating': 89, 'Freekick_Accuracy': 11, 'Penalties': 27}, \r\n",
    "    {'Name': 'Jérôme Boateng', 'National_Position': 'RCB', 'Rating': 89, 'Freekick_Accuracy': 31, 'Penalties': 46}, \r\n",
    "    {'Name': 'Eden Hazard', 'National_Position': 'LF', 'Rating': 89, 'Freekick_Accuracy': 79, 'Penalties': 86}, \r\n",
    "    {'Name': 'Luka Modrić', 'National_Position': \"LS\", 'Rating': 89, 'Freekick_Accuracy': 77, 'Penalties': 80}\r\n",
    "]"
   ],
   "outputs": [],
   "metadata": {}
  },
  {
   "cell_type": "code",
   "execution_count": null,
   "source": [
    "# define function to get dream team"
   ],
   "outputs": [],
   "metadata": {}
  },
  {
   "cell_type": "code",
   "execution_count": null,
   "source": [
    "# use the function and print the dream team"
   ],
   "outputs": [],
   "metadata": {}
  },
  {
   "cell_type": "code",
   "execution_count": null,
   "source": [
    "# we can re-use the function for another list of players without re-writing the for loop and condtions \r\n",
    "another_list_of_players = [\r\n",
    "    {'Name': 'Neymar', 'National_Position': 'LW', 'Rating': 92, 'Freekick_Accuracy': 84, 'Penalties': 81}, \r\n",
    "    {'Name': 'Luis Suárez', 'National_Position': 'LS', 'Rating': 92, 'Freekick_Accuracy': 84, 'Penalties': 85}, \r\n",
    "    {'Name': 'Manuel Neuer', 'National_Position': 'GK', 'Rating': 92, 'Freekick_Accuracy': 11, 'Penalties': 47}, \r\n",
    "    {'Name': 'Jérôme Boateng', 'National_Position': 'RCB', 'Rating': 89, 'Freekick_Accuracy': 31, 'Penalties': 46}, \r\n",
    "    {'Name': 'Eden Hazard', 'National_Position': 'LF', 'Rating': 89, 'Freekick_Accuracy': 79, 'Penalties': 86}, \r\n",
    "    {'Name': 'Cristiano Ronaldo', 'National_Position': 'LS', 'Rating': 94, 'Freekick_Accuracy': 76, 'Penalties': 85}, \r\n",
    "    {'Name': 'Luka Modrić', 'National_Position': \"LS\", 'Rating': 89, 'Freekick_Accuracy': 77, 'Penalties': 80}\r\n",
    "]\r\n"
   ],
   "outputs": [],
   "metadata": {}
  }
 ],
 "metadata": {
  "orig_nbformat": 4,
  "language_info": {
   "name": "python",
   "version": "3.6.13",
   "mimetype": "text/x-python",
   "codemirror_mode": {
    "name": "ipython",
    "version": 3
   },
   "pygments_lexer": "ipython3",
   "nbconvert_exporter": "python",
   "file_extension": ".py"
  },
  "kernelspec": {
   "name": "python3",
   "display_name": "Python 3.6.13 64-bit ('PythonData': conda)"
  },
  "interpreter": {
   "hash": "2b733aa7fedd49db484cedcfdc55e4d5fbcb89255481337c0d3e6f64eb4fdf0c"
  }
 },
 "nbformat": 4,
 "nbformat_minor": 2
}