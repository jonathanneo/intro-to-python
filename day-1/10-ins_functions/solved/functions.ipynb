{
 "cells": [
  {
   "cell_type": "markdown",
   "source": [
    "# What are functions\r\n",
    "\r\n",
    "A function is a block of code which only runs when called. \r\n",
    "\r\n",
    "You can pass data, known as parameters, into a function. (INPUT)\r\n",
    "\r\n",
    "A function can return data as a result. (OUTPUT)"
   ],
   "metadata": {}
  },
  {
   "cell_type": "code",
   "execution_count": 4,
   "source": [
    "def print_hello():\r\n",
    "    print(\"Hello world\")"
   ],
   "outputs": [],
   "metadata": {}
  },
  {
   "cell_type": "code",
   "execution_count": 5,
   "source": [
    "# call the function\r\n",
    "print_hello()"
   ],
   "outputs": [
    {
     "output_type": "stream",
     "name": "stdout",
     "text": [
      "Hello world\n"
     ]
    }
   ],
   "metadata": {}
  },
  {
   "cell_type": "markdown",
   "source": [
    "## Functions with inputs"
   ],
   "metadata": {}
  },
  {
   "cell_type": "code",
   "execution_count": 10,
   "source": [
    "def divide_two_numbers(x, y):\r\n",
    "    print(x / y)"
   ],
   "outputs": [],
   "metadata": {}
  },
  {
   "cell_type": "code",
   "execution_count": 11,
   "source": [
    "# call the function - positional arguments \r\n",
    "divide_two_numbers(10, 2)"
   ],
   "outputs": [
    {
     "output_type": "stream",
     "name": "stdout",
     "text": [
      "5.0\n"
     ]
    }
   ],
   "metadata": {}
  },
  {
   "cell_type": "code",
   "execution_count": 12,
   "source": [
    "# call the function - keyword arguments \r\n",
    "divide_two_numbers(x=10, y=2)\r\n",
    "divide_two_numbers(y=2, x=10)"
   ],
   "outputs": [
    {
     "output_type": "stream",
     "name": "stdout",
     "text": [
      "5.0\n",
      "5.0\n"
     ]
    }
   ],
   "metadata": {}
  },
  {
   "cell_type": "code",
   "execution_count": 13,
   "source": [
    "result = divide_two_numbers(x=10, y=2)\r\n",
    "print(result) # result prints None because there is no output"
   ],
   "outputs": [
    {
     "output_type": "stream",
     "name": "stdout",
     "text": [
      "5.0\n",
      "None\n"
     ]
    }
   ],
   "metadata": {}
  },
  {
   "cell_type": "markdown",
   "source": [
    "## Functions with outputs\r\n",
    "\r\n"
   ],
   "metadata": {}
  },
  {
   "cell_type": "code",
   "execution_count": 14,
   "source": [
    "def divide_two_numbers_with_output(x, y):\r\n",
    "    return x / y"
   ],
   "outputs": [],
   "metadata": {}
  },
  {
   "cell_type": "code",
   "execution_count": 16,
   "source": [
    "result = divide_two_numbers_with_output(x=10, y=2) # the output is returned and then stored in the variable 'result' \r\n",
    "print(result) "
   ],
   "outputs": [
    {
     "output_type": "stream",
     "name": "stdout",
     "text": [
      "5.0\n"
     ]
    }
   ],
   "metadata": {}
  },
  {
   "cell_type": "markdown",
   "source": [
    "## Using functions in practice\r\n",
    "\r\n",
    "In practice, functions are a very useful tool to store reusable code. \r\n",
    "\r\n",
    "The D.R.Y. principle in programming is aimed at reducing repetition of code. "
   ],
   "metadata": {}
  },
  {
   "cell_type": "code",
   "execution_count": 19,
   "source": [
    "all_players = [\r\n",
    "    {'Name': 'Cristiano Ronaldo', 'National_Position': 'LS', 'Rating': 94, 'Freekick_Accuracy': 76, 'Penalties': 85}, \r\n",
    "    {'Name': 'Lionel Messi', 'National_Position': 'RW', 'Rating': 93, 'Freekick_Accuracy': 90, 'Penalties': 74}, \r\n",
    "    {'Name': 'Neymar', 'National_Position': 'LW', 'Rating': 92, 'Freekick_Accuracy': 84, 'Penalties': 81}, \r\n",
    "    {'Name': 'Luis Suárez', 'National_Position': 'LS', 'Rating': 92, 'Freekick_Accuracy': 84, 'Penalties': 85}, \r\n",
    "    {'Name': 'Manuel Neuer', 'National_Position': 'GK', 'Rating': 92, 'Freekick_Accuracy': 11, 'Penalties': 47}, \r\n",
    "    {'Name': 'De Gea', 'National_Position': 'GK', 'Rating': 90, 'Freekick_Accuracy': 19, 'Penalties': 40}, \r\n",
    "    {'Name': 'Robert Lewandowski', 'National_Position': 'LS', 'Rating': 90, 'Freekick_Accuracy': 76, 'Penalties': 81}, \r\n",
    "    {'Name': 'Gareth Bale', 'National_Position': 'RS', 'Rating': 90, 'Freekick_Accuracy': 85, 'Penalties': 76}, \r\n",
    "    {'Name': 'Zlatan Ibrahimović', 'National_Position': \"LS\", 'Rating': 90, 'Freekick_Accuracy': 82, 'Penalties': 91}, \r\n",
    "    {'Name': 'Thibaut Courtois', 'National_Position': 'GK', 'Rating': 89, 'Freekick_Accuracy': 11, 'Penalties': 27}, \r\n",
    "    {'Name': 'Jérôme Boateng', 'National_Position': 'RCB', 'Rating': 89, 'Freekick_Accuracy': 31, 'Penalties': 46}, \r\n",
    "    {'Name': 'Eden Hazard', 'National_Position': 'LF', 'Rating': 89, 'Freekick_Accuracy': 79, 'Penalties': 86}, \r\n",
    "    {'Name': 'Luka Modrić', 'National_Position': \"LS\", 'Rating': 89, 'Freekick_Accuracy': 77, 'Penalties': 80}\r\n",
    "]"
   ],
   "outputs": [],
   "metadata": {}
  },
  {
   "cell_type": "code",
   "execution_count": 18,
   "source": [
    "# define function to get dream team\r\n",
    "def get_dream_team(players):\r\n",
    "    dream_team = []\r\n",
    "    for player in players:\r\n",
    "        if player[\"Rating\"] > 90 and player[\"Freekick_Accuracy\"] > 80 and player[\"National_Position\"] not in [\"GK\", \"Sub\"]:\r\n",
    "            dream_team.append(player)\r\n",
    "    return dream_team"
   ],
   "outputs": [],
   "metadata": {}
  },
  {
   "cell_type": "code",
   "execution_count": 20,
   "source": [
    "my_dream_team = get_dream_team(players=all_players)\r\n",
    "print(my_dream_team)"
   ],
   "outputs": [
    {
     "output_type": "stream",
     "name": "stdout",
     "text": [
      "[{'Name': 'Lionel Messi', 'National_Position': 'RW', 'Rating': 93, 'Freekick_Accuracy': 90, 'Penalties': 74}, {'Name': 'Neymar', 'National_Position': 'LW', 'Rating': 92, 'Freekick_Accuracy': 84, 'Penalties': 81}, {'Name': 'Luis Suárez', 'National_Position': 'LS', 'Rating': 92, 'Freekick_Accuracy': 84, 'Penalties': 85}]\n"
     ]
    }
   ],
   "metadata": {}
  },
  {
   "cell_type": "code",
   "execution_count": 23,
   "source": [
    "# we can re-use the function for another list of players without re-writing the for loop and condtions \r\n",
    "another_list_of_players = [\r\n",
    "    {'Name': 'Neymar', 'National_Position': 'LW', 'Rating': 92, 'Freekick_Accuracy': 84, 'Penalties': 81}, \r\n",
    "    {'Name': 'Luis Suárez', 'National_Position': 'LS', 'Rating': 92, 'Freekick_Accuracy': 84, 'Penalties': 85}, \r\n",
    "    {'Name': 'Manuel Neuer', 'National_Position': 'GK', 'Rating': 92, 'Freekick_Accuracy': 11, 'Penalties': 47}, \r\n",
    "    {'Name': 'Jérôme Boateng', 'National_Position': 'RCB', 'Rating': 89, 'Freekick_Accuracy': 31, 'Penalties': 46}, \r\n",
    "    {'Name': 'Eden Hazard', 'National_Position': 'LF', 'Rating': 89, 'Freekick_Accuracy': 79, 'Penalties': 86}, \r\n",
    "    {'Name': 'Cristiano Ronaldo', 'National_Position': 'LS', 'Rating': 94, 'Freekick_Accuracy': 76, 'Penalties': 85}, \r\n",
    "    {'Name': 'Luka Modrić', 'National_Position': \"LS\", 'Rating': 89, 'Freekick_Accuracy': 77, 'Penalties': 80}\r\n",
    "]\r\n",
    "my_dream_team = get_dream_team(players=another_list_of_players)\r\n",
    "print(my_dream_team)"
   ],
   "outputs": [
    {
     "output_type": "stream",
     "name": "stdout",
     "text": [
      "[{'Name': 'Neymar', 'National_Position': 'LW', 'Rating': 92, 'Freekick_Accuracy': 84, 'Penalties': 81}, {'Name': 'Luis Suárez', 'National_Position': 'LS', 'Rating': 92, 'Freekick_Accuracy': 84, 'Penalties': 85}]\n"
     ]
    }
   ],
   "metadata": {}
  }
 ],
 "metadata": {
  "orig_nbformat": 4,
  "language_info": {
   "name": "python",
   "version": "3.6.13",
   "mimetype": "text/x-python",
   "codemirror_mode": {
    "name": "ipython",
    "version": 3
   },
   "pygments_lexer": "ipython3",
   "nbconvert_exporter": "python",
   "file_extension": ".py"
  },
  "kernelspec": {
   "name": "python3",
   "display_name": "Python 3.6.13 64-bit ('PythonData': conda)"
  },
  "interpreter": {
   "hash": "2b733aa7fedd49db484cedcfdc55e4d5fbcb89255481337c0d3e6f64eb4fdf0c"
  }
 },
 "nbformat": 4,
 "nbformat_minor": 2
}