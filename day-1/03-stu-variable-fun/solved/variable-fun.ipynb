{
 "cells": [
  {
   "cell_type": "markdown",
   "source": [
    "# Numeric operations\r\n",
    "\r\n",
    "What is the circumference of a circle with a radius of 10?\r\n",
    "\r\n",
    "Formula: \r\n",
    "- Circumference = 2 * pi * r"
   ],
   "metadata": {}
  },
  {
   "cell_type": "code",
   "execution_count": 2,
   "source": [
    "pi = 3.14159265359\r\n",
    "r = 10"
   ],
   "outputs": [],
   "metadata": {}
  },
  {
   "cell_type": "code",
   "execution_count": 4,
   "source": [
    "circumference = 2 * pi * r\r\n",
    "print(circumference)"
   ],
   "outputs": [
    {
     "output_type": "stream",
     "name": "stdout",
     "text": [
      "62.8318530718\n"
     ]
    }
   ],
   "metadata": {}
  },
  {
   "cell_type": "markdown",
   "source": [
    "# String operations\r\n",
    "\r\n",
    "Combine your name and your favourite food in the following print statement using an f-string: \r\n",
    "\r\n",
    "\"[Your Name]'s favourite food is [your favourite food]\""
   ],
   "metadata": {}
  },
  {
   "cell_type": "code",
   "execution_count": 6,
   "source": [
    "name = \"Jonathan\"\r\n",
    "favourite_food = \"Fried Rice\""
   ],
   "outputs": [],
   "metadata": {}
  },
  {
   "cell_type": "code",
   "execution_count": 7,
   "source": [
    "print(f\"{name}'s favourite food is {favourite_food}\")"
   ],
   "outputs": [
    {
     "output_type": "stream",
     "name": "stdout",
     "text": [
      "Jonathan's favourite food is Fried Rice\n"
     ]
    }
   ],
   "metadata": {}
  },
  {
   "cell_type": "markdown",
   "source": [
    "# List operations\r\n",
    "\r\n",
    "Create a list of your top 3 favourite movies. "
   ],
   "metadata": {}
  },
  {
   "cell_type": "code",
   "execution_count": 12,
   "source": [
    "# create a list of your favourite movies in this cell\r\n",
    "favourite_movies = [\"Die Hard\", \"Star Wars\", \"Top Gun\"]\r\n",
    "print(favourite_movies)"
   ],
   "outputs": [
    {
     "output_type": "stream",
     "name": "stdout",
     "text": [
      "['Die Hard', 'Star Wars', 'Top Gun']\n"
     ]
    }
   ],
   "metadata": {}
  },
  {
   "cell_type": "code",
   "execution_count": 13,
   "source": [
    "# add another movie to the list \r\n",
    "favourite_movies.append(\"Avengers\")\r\n",
    "print(favourite_movies)"
   ],
   "outputs": [
    {
     "output_type": "stream",
     "name": "stdout",
     "text": [
      "['Die Hard', 'Star Wars', 'Top Gun', 'Avengers']\n"
     ]
    }
   ],
   "metadata": {}
  },
  {
   "cell_type": "code",
   "execution_count": 14,
   "source": [
    "# remove a movie from the list \r\n",
    "favourite_movies.remove(\"Star Wars\")\r\n",
    "print(favourite_movies)"
   ],
   "outputs": [
    {
     "output_type": "stream",
     "name": "stdout",
     "text": [
      "['Die Hard', 'Top Gun', 'Avengers']\n"
     ]
    }
   ],
   "metadata": {}
  },
  {
   "cell_type": "markdown",
   "source": [
    "# Dictionary operations\r\n",
    "\r\n",
    "Create a dictionary with your favourite movies from above and their IMDB score"
   ],
   "metadata": {}
  },
  {
   "cell_type": "code",
   "execution_count": 15,
   "source": [
    "# create the imdb_score dictionary\r\n",
    "imdb_score = {\r\n",
    "    \"Die Hard\": 8.2,\r\n",
    "    \"Star Wars\": 8.6,\r\n",
    "    \"Top Gun\": 6.9\r\n",
    "}"
   ],
   "outputs": [],
   "metadata": {}
  },
  {
   "cell_type": "code",
   "execution_count": 17,
   "source": [
    "# print the imdb score of one of the movies in your dictionary \r\n",
    "print(imdb_score[\"Top Gun\"])"
   ],
   "outputs": [
    {
     "output_type": "stream",
     "name": "stdout",
     "text": [
      "6.9\n"
     ]
    }
   ],
   "metadata": {}
  },
  {
   "cell_type": "code",
   "execution_count": 18,
   "source": [
    "# add a new movie title and imdb score into your dictionary \r\n",
    "imdb_score[\"Star Trek\"] = 7.9\r\n",
    "print(imdb_score)"
   ],
   "outputs": [
    {
     "output_type": "stream",
     "name": "stdout",
     "text": [
      "{'Die Hard': 8.2, 'Star Wars': 8.6, 'Top Gun': 6.9, 'Star Trek': 7.9}\n"
     ]
    }
   ],
   "metadata": {}
  },
  {
   "cell_type": "code",
   "execution_count": 19,
   "source": [
    "# remove the movie with the lowest score\r\n",
    "imdb_score.pop(\"Top Gun\")\r\n",
    "print(imdb_score)"
   ],
   "outputs": [
    {
     "output_type": "stream",
     "name": "stdout",
     "text": [
      "{'Die Hard': 8.2, 'Star Wars': 8.6, 'Star Trek': 7.9}\n"
     ]
    }
   ],
   "metadata": {}
  }
 ],
 "metadata": {
  "orig_nbformat": 4,
  "language_info": {
   "name": "python",
   "version": "3.6.13",
   "mimetype": "text/x-python",
   "codemirror_mode": {
    "name": "ipython",
    "version": 3
   },
   "pygments_lexer": "ipython3",
   "nbconvert_exporter": "python",
   "file_extension": ".py"
  },
  "kernelspec": {
   "name": "python3",
   "display_name": "Python 3.6.13 64-bit ('PythonData': conda)"
  },
  "interpreter": {
   "hash": "2b733aa7fedd49db484cedcfdc55e4d5fbcb89255481337c0d3e6f64eb4fdf0c"
  }
 },
 "nbformat": 4,
 "nbformat_minor": 2
}