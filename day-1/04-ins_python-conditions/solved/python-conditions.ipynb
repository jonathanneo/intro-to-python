{
 "cells": [
  {
   "cell_type": "markdown",
   "source": [
    "# Python conditions\r\n",
    "\r\n",
    "The structure of python conditions are as follows: \r\n",
    "\r\n",
    "```\r\n",
    "if [condition is true]: \r\n",
    "    [do something when the condition is true]\r\n",
    "```\r\n",
    "OR\r\n",
    "\r\n",
    "```\r\n",
    "if [condition is true]: \r\n",
    "    [do something when the condition is true]\r\n",
    "else: \r\n",
    "    [do something when the condition is false]\r\n",
    "```\r\n",
    "\r\n",
    "OR \r\n",
    "\r\n",
    "```\r\n",
    "if [condition is true]: \r\n",
    "    [do something when the condition is true]\r\n",
    "elif [another condition is true]: \r\n",
    "    [do something when the other condition is true]\r\n",
    "else: \r\n",
    "    [do something when the condition is false]\r\n",
    "```\r\n"
   ],
   "metadata": {}
  },
  {
   "cell_type": "markdown",
   "source": [
    "# Comparison operators\r\n",
    "\r\n",
    "- Equal: `==`\r\n",
    "- Not equal: `!=`\r\n",
    "- Greater than: `>`\r\n",
    "- Less than: `<`\r\n",
    "- Greater or equal to: `>=`\r\n",
    "- Less than or equal to: `<=`"
   ],
   "metadata": {}
  },
  {
   "cell_type": "markdown",
   "source": [
    "# Logical operators\r\n",
    "\r\n",
    "- And: `and`, example: `a and b` \r\n",
    "- Or: `or`, example: `a or b` \r\n",
    "- Not: `not`, example `not a`"
   ],
   "metadata": {}
  },
  {
   "cell_type": "code",
   "execution_count": 3,
   "source": [
    "# a simple example\r\n",
    "name = \"jonathan\"\r\n",
    "\r\n",
    "if name == \"jonathan\": \r\n",
    "    print(f\"Welcome back {name}\")"
   ],
   "outputs": [
    {
     "output_type": "stream",
     "name": "stdout",
     "text": [
      "Welcome back jonathan\n"
     ]
    }
   ],
   "metadata": {}
  },
  {
   "cell_type": "code",
   "execution_count": 5,
   "source": [
    "# a more interesting example \r\n",
    "\r\n",
    "name = \"jerry\"\r\n",
    "\r\n",
    "if name == \"jonathan\": \r\n",
    "    print(f\"Welcome back {name}\")\r\n",
    "else: \r\n",
    "    print(f\"Hello {name}, I don't think we've met yet.\")"
   ],
   "outputs": [
    {
     "output_type": "stream",
     "name": "stdout",
     "text": [
      "Hello jerry, I don't think we've met yet.\n"
     ]
    }
   ],
   "metadata": {}
  },
  {
   "cell_type": "code",
   "execution_count": 7,
   "source": [
    "# an even more interesting example\r\n",
    "\r\n",
    "name = \"jerry\"\r\n",
    "\r\n",
    "if name == \"jonathan\": \r\n",
    "    print(f\"Welcome back {name}\")\r\n",
    "elif name == \"jerry\":\r\n",
    "    print(f\"Sorry {name}, you may not enter.\")\r\n",
    "else: \r\n",
    "    print(f\"Hello {name}, I don't think we've met yet.\")"
   ],
   "outputs": [
    {
     "output_type": "stream",
     "name": "stdout",
     "text": [
      "Sorry jerry, you may not enter.\n"
     ]
    }
   ],
   "metadata": {}
  },
  {
   "cell_type": "markdown",
   "source": [
    "### How do we handle upper cases in the name? "
   ],
   "metadata": {}
  },
  {
   "cell_type": "code",
   "execution_count": 9,
   "source": [
    "# we convert it to lower case\r\n",
    "name = \"BOB\"\r\n",
    "print(name.lower())\r\n",
    "\r\n",
    "name = \"Bob\"\r\n",
    "print(name.lower())"
   ],
   "outputs": [
    {
     "output_type": "stream",
     "name": "stdout",
     "text": [
      "bob\n",
      "bob\n"
     ]
    }
   ],
   "metadata": {}
  },
  {
   "cell_type": "code",
   "execution_count": 10,
   "source": [
    "name = \"Jerry\"\r\n",
    "\r\n",
    "if name.lower() == \"jonathan\": \r\n",
    "    print(f\"Welcome back {name}\")\r\n",
    "elif name.lower() == \"jerry\":\r\n",
    "    print(f\"Sorry {name}, you may not enter.\")\r\n",
    "else: \r\n",
    "    print(f\"Hello {name}, I don't think we've met yet.\")"
   ],
   "outputs": [
    {
     "output_type": "stream",
     "name": "stdout",
     "text": [
      "Sorry Jerry, you may not enter.\n"
     ]
    }
   ],
   "metadata": {}
  },
  {
   "cell_type": "code",
   "execution_count": 15,
   "source": [
    "# boolean conditions\r\n",
    "exam_pass = True\r\n",
    "\r\n",
    "if exam_pass: \r\n",
    "    print(\"Congratulations, you've passed the exam!\")\r\n",
    "else: \r\n",
    "    print(\"Sorry, better luck next time.\")"
   ],
   "outputs": [
    {
     "output_type": "stream",
     "name": "stdout",
     "text": [
      "Congratulations, you've passed the exam!\n"
     ]
    }
   ],
   "metadata": {}
  },
  {
   "cell_type": "markdown",
   "source": [
    "### Conditions with logical operators"
   ],
   "metadata": {}
  },
  {
   "cell_type": "code",
   "execution_count": 18,
   "source": [
    "raining = False\r\n",
    "temperature = 20\r\n",
    "\r\n",
    "if not raining and temperature == 25: \r\n",
    "    print(\"The weather is perfect today, you should go outside.\")\r\n",
    "elif not raining and (temperature > 15 or temperature < 35): \r\n",
    "    print(\"It's decent weather today\")\r\n",
    "elif raining and temperature > 20: \r\n",
    "    print(\"You should bring an umbrella today\")\r\n",
    "else: \r\n",
    "    print(\"You should stay inside today\")\r\n"
   ],
   "outputs": [
    {
     "output_type": "stream",
     "name": "stdout",
     "text": [
      "It's decent weather today\n"
     ]
    }
   ],
   "metadata": {}
  },
  {
   "cell_type": "markdown",
   "source": [
    "# Advanced conditions"
   ],
   "metadata": {}
  },
  {
   "cell_type": "code",
   "execution_count": 13,
   "source": [
    "# list condition\r\n",
    "\r\n",
    "movies = [\"Star Wars\", \"Star Trek\", \"Godzilla\"]\r\n",
    "\r\n",
    "if \"Star Wars\" in movies: # checks the membership of \"Star Wars\" in movies\r\n",
    "    print(\"You have good taste in movies.\")\r\n",
    "else: \r\n",
    "    print(\"You should check out the Star Wars series.\")"
   ],
   "outputs": [
    {
     "output_type": "stream",
     "name": "stdout",
     "text": [
      "You have good taste in movies.\n"
     ]
    }
   ],
   "metadata": {}
  },
  {
   "cell_type": "code",
   "execution_count": 14,
   "source": [
    "groceries = [\"Tomato\", \"Eggs\", \"Bread\"]\r\n",
    "\r\n",
    "if \"milk\" not in groceries: # logical and membership operators \r\n",
    "    print(\"You forgot the milk!\")"
   ],
   "outputs": [
    {
     "output_type": "stream",
     "name": "stdout",
     "text": [
      "You forgot the milk!\n"
     ]
    }
   ],
   "metadata": {}
  }
 ],
 "metadata": {
  "orig_nbformat": 4,
  "language_info": {
   "name": "python",
   "version": "3.6.13",
   "mimetype": "text/x-python",
   "codemirror_mode": {
    "name": "ipython",
    "version": 3
   },
   "pygments_lexer": "ipython3",
   "nbconvert_exporter": "python",
   "file_extension": ".py"
  },
  "kernelspec": {
   "name": "python3",
   "display_name": "Python 3.6.13 64-bit ('PythonData': conda)"
  },
  "interpreter": {
   "hash": "2b733aa7fedd49db484cedcfdc55e4d5fbcb89255481337c0d3e6f64eb4fdf0c"
  }
 },
 "nbformat": 4,
 "nbformat_minor": 2
}