{
 "cells": [
  {
   "cell_type": "markdown",
   "source": [
    "# Python conditions\r\n",
    "\r\n",
    "The structure of python conditions are as follows: \r\n",
    "\r\n",
    "```\r\n",
    "if [condition is true]: \r\n",
    "    [do something when the condition is true]\r\n",
    "```\r\n",
    "OR\r\n",
    "\r\n",
    "```\r\n",
    "if [condition is true]: \r\n",
    "    [do something when the condition is true]\r\n",
    "else: \r\n",
    "    [do something when the condition is false]\r\n",
    "```\r\n",
    "\r\n",
    "OR \r\n",
    "\r\n",
    "```\r\n",
    "if [condition is true]: \r\n",
    "    [do something when the condition is true]\r\n",
    "elif [another condition is true]: \r\n",
    "    [do something when the other condition is true]\r\n",
    "else: \r\n",
    "    [do something when the condition is false]\r\n",
    "```\r\n"
   ],
   "metadata": {}
  },
  {
   "cell_type": "markdown",
   "source": [
    "# Comparison operators\r\n",
    "\r\n",
    "- Equal: `==`\r\n",
    "- Not equal: `!=`\r\n",
    "- Greater than: `>`\r\n",
    "- Less than: `<`\r\n",
    "- Greater or equal to: `>=`\r\n",
    "- Less than or equal to: `<=`"
   ],
   "metadata": {}
  },
  {
   "cell_type": "markdown",
   "source": [
    "# Logical operators\r\n",
    "\r\n",
    "- And: `and`, example: `a and b` \r\n",
    "- Or: `or`, example: `a or b` \r\n",
    "- Not: `not`, example `not a`"
   ],
   "metadata": {}
  },
  {
   "cell_type": "code",
   "execution_count": null,
   "source": [
    "# a simple example\r\n",
    "name = \"jonathan\"\r\n"
   ],
   "outputs": [],
   "metadata": {}
  },
  {
   "cell_type": "code",
   "execution_count": null,
   "source": [
    "# a more interesting example \r\n",
    "\r\n",
    "name = \"jerry\"\r\n"
   ],
   "outputs": [],
   "metadata": {}
  },
  {
   "cell_type": "code",
   "execution_count": null,
   "source": [
    "# an even more interesting example\r\n",
    "\r\n",
    "name = \"jerry\"\r\n"
   ],
   "outputs": [],
   "metadata": {}
  },
  {
   "cell_type": "markdown",
   "source": [
    "### How do we handle upper cases in the name? "
   ],
   "metadata": {}
  },
  {
   "cell_type": "code",
   "execution_count": null,
   "source": [
    "# we convert it to lower case\r\n",
    "name = \"BOB\"\r\n",
    "\r\n",
    "name = \"Bob\""
   ],
   "outputs": [],
   "metadata": {}
  },
  {
   "cell_type": "code",
   "execution_count": null,
   "source": [
    "name = \"Jerry\"\r\n"
   ],
   "outputs": [],
   "metadata": {}
  },
  {
   "cell_type": "code",
   "execution_count": null,
   "source": [
    "# boolean conditions\r\n",
    "exam_pass = True\r\n"
   ],
   "outputs": [],
   "metadata": {}
  },
  {
   "cell_type": "markdown",
   "source": [
    "### Conditions with logical operators"
   ],
   "metadata": {}
  },
  {
   "cell_type": "code",
   "execution_count": null,
   "source": [
    "raining = False\r\n",
    "temperature = 20\r\n"
   ],
   "outputs": [],
   "metadata": {}
  },
  {
   "cell_type": "markdown",
   "source": [
    "# Advanced conditions"
   ],
   "metadata": {}
  },
  {
   "cell_type": "code",
   "execution_count": null,
   "source": [
    "# list condition\r\n",
    "\r\n",
    "movies = [\"Star Wars\", \"Star Trek\", \"Godzilla\"]\r\n"
   ],
   "outputs": [],
   "metadata": {}
  },
  {
   "cell_type": "code",
   "execution_count": null,
   "source": [
    "groceries = [\"Tomato\", \"Eggs\", \"Bread\"]\r\n"
   ],
   "outputs": [],
   "metadata": {}
  }
 ],
 "metadata": {
  "orig_nbformat": 4,
  "language_info": {
   "name": "python",
   "version": "3.6.13",
   "mimetype": "text/x-python",
   "codemirror_mode": {
    "name": "ipython",
    "version": 3
   },
   "pygments_lexer": "ipython3",
   "nbconvert_exporter": "python",
   "file_extension": ".py"
  },
  "kernelspec": {
   "name": "python3",
   "display_name": "Python 3.6.13 64-bit ('PythonData': conda)"
  },
  "interpreter": {
   "hash": "2b733aa7fedd49db484cedcfdc55e4d5fbcb89255481337c0d3e6f64eb4fdf0c"
  }
 },
 "nbformat": 4,
 "nbformat_minor": 2
}