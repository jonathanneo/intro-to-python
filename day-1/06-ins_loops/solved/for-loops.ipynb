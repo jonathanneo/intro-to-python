{
 "cells": [
  {
   "cell_type": "markdown",
   "source": [
    "# Around and around we go\r\n",
    "\r\n",
    "We can use a `for` loop to iterate through a sequence (list, dictionary, string)"
   ],
   "metadata": {}
  },
  {
   "cell_type": "code",
   "execution_count": 1,
   "source": [
    "# use a for loop to print all items in a list \r\n",
    "recipes = [\"Roast chicken\", \"Salad\", \"Potato bake\"]\r\n",
    "\r\n",
    "for x in recipes:\r\n",
    "    print(x) "
   ],
   "outputs": [
    {
     "output_type": "stream",
     "name": "stdout",
     "text": [
      "Roast chicken\n",
      "Salad\n",
      "Potato bake\n"
     ]
    }
   ],
   "metadata": {}
  },
  {
   "cell_type": "code",
   "execution_count": 2,
   "source": [
    "# use a for loop to sum all numbers in a list\r\n",
    "numbers = [1, 2, 3, 4, 5, 6, 7, 8, 9, 10]\r\n",
    "sum_of_numbers = 0\r\n",
    "\r\n",
    "for num in numbers:\r\n",
    "    sum_of_numbers = sum_of_numbers + num\r\n",
    "\r\n",
    "print(sum_of_numbers)"
   ],
   "outputs": [
    {
     "output_type": "stream",
     "name": "stdout",
     "text": [
      "55\n"
     ]
    }
   ],
   "metadata": {}
  },
  {
   "cell_type": "code",
   "execution_count": 3,
   "source": [
    "# use a for loop to print all characters in a string\r\n",
    "hello = \"Hello world\"\r\n",
    "\r\n",
    "for char in hello: \r\n",
    "    print(char)"
   ],
   "outputs": [
    {
     "output_type": "stream",
     "name": "stdout",
     "text": [
      "H\n",
      "e\n",
      "l\n",
      "l\n",
      "o\n",
      " \n",
      "w\n",
      "o\n",
      "r\n",
      "l\n",
      "d\n"
     ]
    }
   ],
   "metadata": {}
  },
  {
   "cell_type": "code",
   "execution_count": 7,
   "source": [
    "# use a for loop to print all movies and scores\r\n",
    "imdb_score = {\r\n",
    "    \"Die Hard\": 8.2,\r\n",
    "    \"Star Wars\": 8.6,\r\n",
    "    \"Top Gun\": 6.9\r\n",
    "}\r\n",
    "\r\n",
    "for movie in imdb_score.keys():\r\n",
    "    print(f\"{movie}: {imdb_score[movie]}\")\r\n"
   ],
   "outputs": [
    {
     "output_type": "stream",
     "name": "stdout",
     "text": [
      "Die Hard: 8.2\n",
      "Star Wars: 8.6\n",
      "Top Gun: 6.9\n"
     ]
    }
   ],
   "metadata": {}
  },
  {
   "cell_type": "code",
   "execution_count": 9,
   "source": [
    "# get a list of numbers using range \r\n",
    "list_of_numbers = range(1, 10)\r\n",
    "print(list_of_numbers)"
   ],
   "outputs": [
    {
     "output_type": "stream",
     "name": "stdout",
     "text": [
      "range(1, 10)\n"
     ]
    }
   ],
   "metadata": {}
  },
  {
   "cell_type": "code",
   "execution_count": 11,
   "source": [
    "# print list of numbers in range\r\n",
    "for x in range(0, 10):\r\n",
    "    print(x)"
   ],
   "outputs": [
    {
     "output_type": "stream",
     "name": "stdout",
     "text": [
      "0\n",
      "1\n",
      "2\n",
      "3\n",
      "4\n",
      "5\n",
      "6\n",
      "7\n",
      "8\n",
      "9\n"
     ]
    }
   ],
   "metadata": {}
  },
  {
   "cell_type": "code",
   "execution_count": 12,
   "source": [
    "# create a range with increments of 2 \r\n",
    "for x in range(0, 10, 2):\r\n",
    "    print(x)"
   ],
   "outputs": [
    {
     "output_type": "stream",
     "name": "stdout",
     "text": [
      "0\n",
      "2\n",
      "4\n",
      "6\n",
      "8\n"
     ]
    }
   ],
   "metadata": {}
  },
  {
   "cell_type": "code",
   "execution_count": 14,
   "source": [
    "# create a list of dictionaries\r\n",
    "movies = [\r\n",
    "    {\r\n",
    "        \"name\": \"Die Hard\",\r\n",
    "        \"score\": 8.2,\r\n",
    "        \"year\": 1988\r\n",
    "    },\r\n",
    "    {\r\n",
    "        \"name\": \"Star Wars\",\r\n",
    "        \"score\": 8.6,\r\n",
    "        \"year\": 1977\r\n",
    "    },\r\n",
    "    {\r\n",
    "        \"name\": \"Top Gun\",\r\n",
    "        \"score\": 6.9,\r\n",
    "        \"year\": 1986\r\n",
    "    }\r\n",
    "]"
   ],
   "outputs": [],
   "metadata": {}
  },
  {
   "cell_type": "code",
   "execution_count": 15,
   "source": [
    "# loop through list of dictionaries\r\n",
    "for movie in movies:\r\n",
    "    print(f\"The movie {movie['name']} was released in {movie['year']} and received a score of {movie['score']} on IMDB.\")"
   ],
   "outputs": [
    {
     "output_type": "stream",
     "name": "stdout",
     "text": [
      "The movie Die Hard was released in 1988 and received a score of 8.2 on IMDB.\n",
      "The movie Star Wars was released in 1977 and received a score of 8.6 on IMDB.\n",
      "The movie Top Gun was released in 1986 and received a score of 6.9 on IMDB.\n"
     ]
    }
   ],
   "metadata": {}
  }
 ],
 "metadata": {
  "orig_nbformat": 4,
  "language_info": {
   "name": "python",
   "version": "3.6.13",
   "mimetype": "text/x-python",
   "codemirror_mode": {
    "name": "ipython",
    "version": 3
   },
   "pygments_lexer": "ipython3",
   "nbconvert_exporter": "python",
   "file_extension": ".py"
  },
  "kernelspec": {
   "name": "python3",
   "display_name": "Python 3.6.13 64-bit ('PythonData': conda)"
  },
  "interpreter": {
   "hash": "2b733aa7fedd49db484cedcfdc55e4d5fbcb89255481337c0d3e6f64eb4fdf0c"
  }
 },
 "nbformat": 4,
 "nbformat_minor": 2
}