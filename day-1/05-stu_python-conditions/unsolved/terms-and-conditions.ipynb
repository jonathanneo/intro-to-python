{
 "cells": [
  {
   "cell_type": "markdown",
   "source": [
    "# Should you bring an umbrella today?\r\n",
    "\r\n",
    "Create a conditional statement that tells you whether you should bring an umbrella based on the following conditions: \r\n",
    "- if the weather is sunny and precipitation is less than or equal to 50%, then don't need to bring an umbrella \r\n",
    "- if the weather is not sunny and precipitation is less than or equal to 20%, then don't need to bring an umbrella\r\n",
    "- if the weather is not sunny and preciptation is greater than or equal to 20%, then bring an umbrella\r\n",
    "\r\n",
    "Test your logic with different inputs. "
   ],
   "metadata": {}
  },
  {
   "cell_type": "code",
   "execution_count": 6,
   "source": [
    "# use these starter variables\r\n",
    "sunny = False\r\n",
    "precipitation = 0.2"
   ],
   "outputs": [],
   "metadata": {}
  },
  {
   "cell_type": "code",
   "execution_count": 3,
   "source": [
    "# write your conditional statement here\r\n"
   ],
   "outputs": [
    {
     "output_type": "stream",
     "name": "stdout",
     "text": [
      "Don't need to bring an umbrella\n"
     ]
    }
   ],
   "metadata": {}
  },
  {
   "cell_type": "markdown",
   "source": [
    "# Did you remember to buy the milk?\r\n",
    "\r\n",
    "Create a conditional statement that reminds you whether you need to buy milk or not based on the following conditions: \r\n",
    "\r\n",
    "- if the milk is running out and today is Sunday, then buy milk\r\n",
    "- if you have soy milk in your basket, then don't buy milk\r\n",
    "- if the milk is running out and today is not Sunday, then don't buy milk\r\n",
    "- if the milk is not running out, then don't buy milk"
   ],
   "metadata": {}
  },
  {
   "cell_type": "code",
   "execution_count": 8,
   "source": [
    "basket = [\"chicken\", \"eggs\", \"Soy Milk\"]\r\n",
    "\r\n",
    "# create a variable for day of the week \r\n",
    "\r\n",
    "\r\n",
    "# create a variable for whether milk is running out or not \r\n"
   ],
   "outputs": [],
   "metadata": {}
  },
  {
   "cell_type": "code",
   "execution_count": 12,
   "source": [
    "# write your conditional statement here\r\n"
   ],
   "outputs": [
    {
     "output_type": "stream",
     "name": "stdout",
     "text": [
      "Don't buy milk\n"
     ]
    }
   ],
   "metadata": {}
  }
 ],
 "metadata": {
  "orig_nbformat": 4,
  "language_info": {
   "name": "python",
   "version": "3.6.13",
   "mimetype": "text/x-python",
   "codemirror_mode": {
    "name": "ipython",
    "version": 3
   },
   "pygments_lexer": "ipython3",
   "nbconvert_exporter": "python",
   "file_extension": ".py"
  },
  "kernelspec": {
   "name": "python3",
   "display_name": "Python 3.6.13 64-bit ('PythonData': conda)"
  },
  "interpreter": {
   "hash": "2b733aa7fedd49db484cedcfdc55e4d5fbcb89255481337c0d3e6f64eb4fdf0c"
  }
 },
 "nbformat": 4,
 "nbformat_minor": 2
}