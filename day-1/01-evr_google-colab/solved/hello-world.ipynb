{
 "cells": [
  {
   "cell_type": "markdown",
   "source": [
    "# Cells\r\n",
    "A notebook is a list of cells. Cells contain either explanatory text or executable code and its output. Click a cell to select it."
   ],
   "metadata": {}
  },
  {
   "cell_type": "markdown",
   "source": [
    "## Code cells\r\n",
    "Below is a **code cell**. Once the toolbar button indicates CONNECTED, click in the cell to select it and execute the contents in the following ways:\r\n",
    "\r\n",
    "* Click the **Play icon** in the left gutter of the cell;\r\n",
    "* Type **Cmd/Ctrl+Enter** to run the cell in place;\r\n",
    "* Type **Shift+Enter** to run the cell and move focus to the next cell (adding one if none exists); or\r\n",
    "* Type **Alt+Enter** to run the cell and insert a new code cell immediately below it.\r\n",
    "\r\n",
    "There are additional options for running some or all cells in the **Runtime** menu.\r\n"
   ],
   "metadata": {}
  },
  {
   "cell_type": "code",
   "execution_count": null,
   "source": [
    "a = 10\r\n",
    "a"
   ],
   "outputs": [],
   "metadata": {}
  },
  {
   "cell_type": "code",
   "execution_count": null,
   "source": [
    "print(\"hello world\")"
   ],
   "outputs": [],
   "metadata": {}
  },
  {
   "cell_type": "markdown",
   "source": [
    "## Commenting on a cell\r\n",
    "You can comment on a Colaboratory notebook like you would on a Google Document. Comments are attached to cells, and are displayed next to the cell they refer to. If you have **comment-only** permissions, you will see a comment button on the top right of the cell when you hover over it.\r\n",
    "\r\n",
    "If you have edit or comment permissions you can comment on a cell in one of three ways: \r\n",
    "\r\n",
    "1. Select a cell and click the comment button in the toolbar above the top-right corner of the cell.\r\n",
    "1. Right click a text cell and select **Add a comment** from the context menu.\r\n",
    "3. Use the shortcut **Ctrl+Shift+M** to add a comment to the currently selected cell. \r\n",
    "\r\n",
    "You can resolve and reply to comments, and you can target comments to specific collaborators by typing *+[email address]* (e.g., `+user@domain.com`). Addressed collaborators will be emailed. \r\n",
    "\r\n",
    "The Comment button in the top-right corner of the page shows all comments attached to the notebook."
   ],
   "metadata": {}
  }
 ],
 "metadata": {
  "orig_nbformat": 4,
  "language_info": {
   "name": "python"
  }
 },
 "nbformat": 4,
 "nbformat_minor": 2
}