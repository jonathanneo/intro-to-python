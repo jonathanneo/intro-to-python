{
 "cells": [
  {
   "cell_type": "markdown",
   "source": [
    "# While loops\r\n",
    "\r\n",
    "Unlike `for` loops, `while` loops will keep executing a set of statements as long as the condition is True.\r\n",
    "\r\n",
    "The basic structure for a while loop is: \r\n",
    "\r\n",
    "```\r\n",
    "while [condition is true]: \r\n",
    "    [keep doing stuff]\r\n",
    "```\r\n"
   ],
   "metadata": {}
  },
  {
   "cell_type": "code",
   "execution_count": null,
   "source": [
    "# this statement never stops executing - becareful when running it! It could crash or slow down your computer. \r\n",
    "# make sure to stop the execution\r\n",
    "while True:\r\n",
    "    print(\"Just keep swimming...\")"
   ],
   "outputs": [],
   "metadata": {}
  },
  {
   "cell_type": "markdown",
   "source": [
    "### How to safely use a while loop\r\n",
    "\r\n",
    "Make sure that the condition used with the while loop will result in the while loop ending. For example... "
   ],
   "metadata": {}
  },
  {
   "cell_type": "code",
   "execution_count": null,
   "source": [
    "# keep printing i until it reaches 5\r\n"
   ],
   "outputs": [],
   "metadata": {}
  },
  {
   "cell_type": "markdown",
   "source": [
    "# Nested for loops"
   ],
   "metadata": {}
  },
  {
   "cell_type": "code",
   "execution_count": null,
   "source": [
    "# a list of students with a list of scores (a list within a list)\r\n",
    "students = [\r\n",
    "    {\r\n",
    "        \"name\": \"Tom\",\r\n",
    "        \"scores\": [50, 80, 75, 45.2]\r\n",
    "    },\r\n",
    "    {\r\n",
    "        \"name\": \"Jerry\",\r\n",
    "        \"scores\": [40, 20, 60, 33]\r\n",
    "    },\r\n",
    "    {\r\n",
    "        \"name\": \"Susan\",\r\n",
    "        \"scores\": [80, 10, 95]\r\n",
    "    }\r\n",
    "]"
   ],
   "outputs": [],
   "metadata": {}
  },
  {
   "cell_type": "code",
   "execution_count": null,
   "source": [
    "# print out all scores using two for loops\r\n"
   ],
   "outputs": [],
   "metadata": {}
  }
 ],
 "metadata": {
  "orig_nbformat": 4,
  "language_info": {
   "name": "python",
   "version": "3.6.13",
   "mimetype": "text/x-python",
   "codemirror_mode": {
    "name": "ipython",
    "version": 3
   },
   "pygments_lexer": "ipython3",
   "nbconvert_exporter": "python",
   "file_extension": ".py"
  },
  "kernelspec": {
   "name": "python3",
   "display_name": "Python 3.6.13 64-bit ('PythonData': conda)"
  },
  "interpreter": {
   "hash": "2b733aa7fedd49db484cedcfdc55e4d5fbcb89255481337c0d3e6f64eb4fdf0c"
  }
 },
 "nbformat": 4,
 "nbformat_minor": 2
}