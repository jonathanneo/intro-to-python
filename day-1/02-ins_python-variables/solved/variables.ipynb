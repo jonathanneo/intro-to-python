{
 "cells": [
  {
   "cell_type": "markdown",
   "source": [
    "## What are variables?\r\n",
    "\r\n",
    "Variables are containers for storing data values."
   ],
   "metadata": {}
  },
  {
   "cell_type": "code",
   "execution_count": 2,
   "source": [
    "variable_a = 1\r\n",
    "print(variable_a)"
   ],
   "outputs": [
    {
     "output_type": "stream",
     "name": "stdout",
     "text": [
      "1\n"
     ]
    }
   ],
   "metadata": {}
  },
  {
   "cell_type": "code",
   "execution_count": 3,
   "source": [
    "variable_b = \"Hello world\"\r\n",
    "print(variable_b)"
   ],
   "outputs": [
    {
     "output_type": "stream",
     "name": "stdout",
     "text": [
      "Hello world\n"
     ]
    }
   ],
   "metadata": {}
  },
  {
   "cell_type": "markdown",
   "source": [
    "## What data types are there? "
   ],
   "metadata": {}
  },
  {
   "cell_type": "code",
   "execution_count": 14,
   "source": [
    "# integer - for storing whole numbers \r\n",
    "variable_int = 100\r\n",
    "print(type(variable_int))\r\n",
    "\r\n",
    "# float - for storing numbers with decimal places \r\n",
    "variable_float = 100.51\r\n",
    "print(type(variable_float))\r\n",
    "\r\n",
    "# string - for storing text \r\n",
    "variable_string = \"Hello world\"\r\n",
    "print(type(variable_string))\r\n",
    "\r\n",
    "# boolean - for storing boolean values True or False \r\n",
    "variable_bool_true = True\r\n",
    "print(type(variable_bool_true))\r\n",
    "\r\n",
    "variable_bool_false = False\r\n",
    "print(type(variable_bool_false))\r\n",
    "\r\n",
    "# list - for storing a list of values \r\n",
    "students = [\"Tom\", \"Jerry\", \"Jack\", \"Jill\"]\r\n",
    "print(type(students))\r\n",
    "\r\n",
    "# dictionary - for storing a key-value pair of values \r\n",
    "phone_book = {\r\n",
    "    \"Tom\": \"0412312312\", \r\n",
    "    \"Jerry\": \"0412312313\"\r\n",
    "}\r\n",
    "print(type(phone_book))\r\n"
   ],
   "outputs": [
    {
     "output_type": "stream",
     "name": "stdout",
     "text": [
      "<class 'int'>\n",
      "<class 'float'>\n",
      "<class 'str'>\n",
      "<class 'bool'>\n",
      "<class 'bool'>\n",
      "<class 'list'>\n",
      "<class 'dict'>\n"
     ]
    }
   ],
   "metadata": {}
  },
  {
   "cell_type": "markdown",
   "source": [
    "## Manipulating variables"
   ],
   "metadata": {}
  },
  {
   "cell_type": "markdown",
   "source": [
    "### Basic arithmetic\r\n",
    "\r\n",
    "Works on numerical data types"
   ],
   "metadata": {}
  },
  {
   "cell_type": "code",
   "execution_count": 15,
   "source": [
    "# addition \r\n",
    "a = 1\r\n",
    "b = 2\r\n",
    "c = a + b\r\n",
    "print(c)"
   ],
   "outputs": [
    {
     "output_type": "stream",
     "name": "stdout",
     "text": [
      "3\n"
     ]
    }
   ],
   "metadata": {}
  },
  {
   "cell_type": "code",
   "execution_count": 17,
   "source": [
    "# subtraction\r\n",
    "a = 5\r\n",
    "b = 2\r\n",
    "c = a - b\r\n",
    "print(c)"
   ],
   "outputs": [
    {
     "output_type": "stream",
     "name": "stdout",
     "text": [
      "3\n"
     ]
    }
   ],
   "metadata": {}
  },
  {
   "cell_type": "code",
   "execution_count": 19,
   "source": [
    "# multiplication\r\n",
    "a = 5\r\n",
    "b = 2\r\n",
    "c = a * b\r\n",
    "print(c)"
   ],
   "outputs": [
    {
     "output_type": "stream",
     "name": "stdout",
     "text": [
      "10\n"
     ]
    }
   ],
   "metadata": {}
  },
  {
   "cell_type": "code",
   "execution_count": 20,
   "source": [
    "# division\r\n",
    "a = 10\r\n",
    "b = 2\r\n",
    "c = a / b\r\n",
    "print(c)"
   ],
   "outputs": [
    {
     "output_type": "stream",
     "name": "stdout",
     "text": [
      "5.0\n"
     ]
    }
   ],
   "metadata": {}
  },
  {
   "cell_type": "code",
   "execution_count": 24,
   "source": [
    "# overwritting an existing variable \r\n",
    "a = 1\r\n",
    "a = 2\r\n",
    "a = 3\r\n",
    "print(\"what should 'a' be?\")\r\n",
    "print(\"answer: \" + str(a))"
   ],
   "outputs": [
    {
     "output_type": "stream",
     "name": "stdout",
     "text": [
      "what should 'a' be?\n",
      "answer: 3\n"
     ]
    }
   ],
   "metadata": {}
  },
  {
   "cell_type": "markdown",
   "source": [
    "### String manipulation"
   ],
   "metadata": {}
  },
  {
   "cell_type": "code",
   "execution_count": 35,
   "source": [
    "say_hello = \"hello world\"\r\n",
    "say_bye = \"goodbye world\"\r\n",
    "say_hello_bye = say_hello + \" \" + say_bye\r\n",
    "print(say_hello_bye)"
   ],
   "outputs": [
    {
     "output_type": "stream",
     "name": "stdout",
     "text": [
      "hello world goodbye world\n"
     ]
    }
   ],
   "metadata": {}
  },
  {
   "cell_type": "code",
   "execution_count": 34,
   "source": [
    "# f-strings: an easier way to work with strings and python variables. For example: \r\n",
    "say_hello = \"hello world\"\r\n",
    "say_bye = \"goodbye world\"\r\n",
    "say_hello_bye = f\"{say_hello} {say_bye}\"\r\n",
    "print(say_hello_bye)"
   ],
   "outputs": [
    {
     "output_type": "stream",
     "name": "stdout",
     "text": [
      "hello world goodbye world\n"
     ]
    }
   ],
   "metadata": {}
  },
  {
   "cell_type": "markdown",
   "source": [
    "### List manipulation"
   ],
   "metadata": {}
  },
  {
   "cell_type": "code",
   "execution_count": 48,
   "source": [
    "# creating a list\r\n",
    "movie_stars = [\"Tom Cruize\", \"El Pacino\", \"Meryl Streep\"]\r\n",
    "print(movie_stars)"
   ],
   "outputs": [
    {
     "output_type": "stream",
     "name": "stdout",
     "text": [
      "['Tom Cruize', 'El Pacino', 'Meryl Streep']\n"
     ]
    }
   ],
   "metadata": {}
  },
  {
   "cell_type": "code",
   "execution_count": 49,
   "source": [
    "# accessing first value from a list \r\n",
    "print(movie_stars[0])\r\n",
    "\r\n",
    "# accessing second value from a list \r\n",
    "print(movie_stars[1])\r\n",
    "\r\n",
    "# accessing third value from a list \r\n",
    "print(movie_stars[2])\r\n",
    "\r\n",
    "# accessing last value from a list \r\n",
    "print(movie_stars[-1])"
   ],
   "outputs": [
    {
     "output_type": "stream",
     "name": "stdout",
     "text": [
      "Tom Cruize\n",
      "El Pacino\n",
      "Meryl Streep\n",
      "Meryl Streep\n"
     ]
    }
   ],
   "metadata": {}
  },
  {
   "cell_type": "code",
   "execution_count": 51,
   "source": [
    "# updating values in list \r\n",
    "movie_stars[0] = \"Tom Cruise\"\r\n",
    "print(movie_stars)"
   ],
   "outputs": [
    {
     "output_type": "stream",
     "name": "stdout",
     "text": [
      "['Tom Cruise', 'El Pacino', 'Meryl Streep']\n"
     ]
    }
   ],
   "metadata": {}
  },
  {
   "cell_type": "code",
   "execution_count": 38,
   "source": [
    "# add another star \r\n",
    "movie_stars.append(\"Cate Blanchett\")\r\n",
    "print(movie_stars)"
   ],
   "outputs": [
    {
     "output_type": "stream",
     "name": "stdout",
     "text": [
      "['Tom Cruise', 'El Pacino', 'Meryl Streep', 'Cate Blanchett']\n"
     ]
    }
   ],
   "metadata": {}
  },
  {
   "cell_type": "code",
   "execution_count": 39,
   "source": [
    "# remove a movie star\r\n",
    "movie_stars.remove(\"El Pacino\")\r\n",
    "movie_stars"
   ],
   "outputs": [
    {
     "output_type": "execute_result",
     "data": {
      "text/plain": [
       "['Tom Cruise', 'Meryl Streep', 'Cate Blanchett']"
      ]
     },
     "metadata": {},
     "execution_count": 39
    }
   ],
   "metadata": {}
  },
  {
   "cell_type": "markdown",
   "source": [
    "## Dictionary manipulation"
   ],
   "metadata": {}
  },
  {
   "cell_type": "code",
   "execution_count": 52,
   "source": [
    "# creating a dictionary \r\n",
    "phone_book = {\r\n",
    "    \"Tom\": \"0412312312\", \r\n",
    "    \"Jerry\": \"0412312313\"\r\n",
    "}\r\n",
    "print(phone_book)"
   ],
   "outputs": [
    {
     "output_type": "stream",
     "name": "stdout",
     "text": [
      "{'Tom': '0412312312', 'Jerry': '0412312313'}\n"
     ]
    }
   ],
   "metadata": {}
  },
  {
   "cell_type": "code",
   "execution_count": 53,
   "source": [
    "# accessing value from a dictionary \r\n",
    "print(phone_book[\"Tom\"])"
   ],
   "outputs": [
    {
     "output_type": "stream",
     "name": "stdout",
     "text": [
      "0412312312\n"
     ]
    }
   ],
   "metadata": {}
  },
  {
   "cell_type": "code",
   "execution_count": 54,
   "source": [
    "# adding new key-value pair to a dictionary\r\n",
    "phone_book[\"Sally\"] = \"04123123314\"\r\n",
    "print(phone_book)"
   ],
   "outputs": [
    {
     "output_type": "stream",
     "name": "stdout",
     "text": [
      "{'Tom': '0412312312', 'Jerry': '0412312313', 'Sally': '04123123314'}\n"
     ]
    }
   ],
   "metadata": {}
  },
  {
   "cell_type": "code",
   "execution_count": 55,
   "source": [
    "# updating key-value pair in dictionary\r\n",
    "phone_book[\"Jerry\"] = \"04123123315\"\r\n",
    "print(phone_book)"
   ],
   "outputs": [
    {
     "output_type": "stream",
     "name": "stdout",
     "text": [
      "{'Tom': '0412312312', 'Jerry': '04123123315', 'Sally': '04123123314'}\n"
     ]
    }
   ],
   "metadata": {}
  },
  {
   "cell_type": "code",
   "execution_count": 56,
   "source": [
    "# removing key-value pair from a dictionary\r\n",
    "phone_book.pop(\"Tom\")\r\n",
    "print(phone_book)"
   ],
   "outputs": [
    {
     "output_type": "stream",
     "name": "stdout",
     "text": [
      "{'Jerry': '04123123315', 'Sally': '04123123314'}\n"
     ]
    }
   ],
   "metadata": {}
  }
 ],
 "metadata": {
  "orig_nbformat": 4,
  "language_info": {
   "name": "python",
   "version": "3.6.13",
   "mimetype": "text/x-python",
   "codemirror_mode": {
    "name": "ipython",
    "version": 3
   },
   "pygments_lexer": "ipython3",
   "nbconvert_exporter": "python",
   "file_extension": ".py"
  },
  "kernelspec": {
   "name": "python3",
   "display_name": "Python 3.6.13 64-bit ('PythonData': conda)"
  },
  "interpreter": {
   "hash": "2b733aa7fedd49db484cedcfdc55e4d5fbcb89255481337c0d3e6f64eb4fdf0c"
  }
 },
 "nbformat": 4,
 "nbformat_minor": 2
}