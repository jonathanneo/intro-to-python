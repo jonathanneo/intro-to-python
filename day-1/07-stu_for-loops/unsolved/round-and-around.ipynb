{
 "cells": [
  {
   "cell_type": "markdown",
   "source": [
    "# Warming up\r\n",
    "\r\n",
    "Loop through the list below and print only words with 5 characters. \r\n",
    "\r\n",
    "Tip: Use the `len()` function to get the length of a string. See more here: https://www.w3schools.com/python/ref_func_len.asp"
   ],
   "metadata": {}
  },
  {
   "cell_type": "code",
   "execution_count": 2,
   "source": [
    "# list of words\r\n",
    "words = [\r\n",
    "    \"hello\",\r\n",
    "    \"there\",\r\n",
    "    \"my\",\r\n",
    "    \"name\",\r\n",
    "    \"is\",\r\n",
    "    \"bob\",\r\n",
    "    \"how\",\r\n",
    "    \"are\",\r\n",
    "    \"you\",\r\n",
    "    \"today\"\r\n",
    "]"
   ],
   "outputs": [],
   "metadata": {}
  },
  {
   "cell_type": "code",
   "execution_count": 3,
   "source": [
    "# print only words that have exactly 5 characters\r\n"
   ],
   "outputs": [
    {
     "output_type": "stream",
     "name": "stdout",
     "text": [
      "hello\n",
      "there\n",
      "today\n"
     ]
    }
   ],
   "metadata": {}
  },
  {
   "cell_type": "markdown",
   "source": [
    "# What's odd about these numbers? \r\n",
    "\r\n",
    "Print only odd numbers in the range of numbers below. \r\n",
    "\r\n",
    "You may check if a number is odd if the number is not divisible by two. \r\n",
    "\r\n",
    "This can be achieved by using the modulo operation in python, for example: \r\n",
    "\r\n",
    "`10 % 2` returns `0` because it is divisible by 2. \r\n",
    "\r\n",
    "`13 % 2` returns `1` because it is not divisible by 2. "
   ],
   "metadata": {}
  },
  {
   "cell_type": "code",
   "execution_count": 14,
   "source": [
    "# create a range of numbers from 1 to 19 \r\n"
   ],
   "outputs": [],
   "metadata": {}
  },
  {
   "cell_type": "code",
   "execution_count": 15,
   "source": [
    "# Print only odd numbers from the range of numbers\r\n"
   ],
   "outputs": [
    {
     "output_type": "stream",
     "name": "stdout",
     "text": [
      "1\n",
      "3\n",
      "5\n",
      "7\n",
      "9\n",
      "11\n",
      "13\n",
      "15\n",
      "17\n",
      "19\n"
     ]
    }
   ],
   "metadata": {}
  },
  {
   "cell_type": "markdown",
   "source": [
    "# Build the dream team\r\n",
    "\r\n",
    "Build your dream soccer team. Players must: \r\n",
    "- Have a `Rating` of `90` and above\r\n",
    "- Have a `Freekick_Accuracy` of 80 and above\r\n",
    "- Not be a Goal Keeper (GK) or Substitute (Sub)"
   ],
   "metadata": {}
  },
  {
   "cell_type": "code",
   "execution_count": 29,
   "source": [
    "players = [\r\n",
    "    {'Name': 'Cristiano Ronaldo', 'National_Position': 'LS', 'Rating': 94, 'Freekick_Accuracy': 76, 'Penalties': 85}, \r\n",
    "    {'Name': 'Lionel Messi', 'National_Position': 'RW', 'Rating': 93, 'Freekick_Accuracy': 90, 'Penalties': 74}, \r\n",
    "    {'Name': 'Neymar', 'National_Position': 'LW', 'Rating': 92, 'Freekick_Accuracy': 84, 'Penalties': 81}, \r\n",
    "    {'Name': 'Luis Suárez', 'National_Position': 'LS', 'Rating': 92, 'Freekick_Accuracy': 84, 'Penalties': 85}, \r\n",
    "    {'Name': 'Manuel Neuer', 'National_Position': 'GK', 'Rating': 92, 'Freekick_Accuracy': 11, 'Penalties': 47}, \r\n",
    "    {'Name': 'De Gea', 'National_Position': 'GK', 'Rating': 90, 'Freekick_Accuracy': 19, 'Penalties': 40}, \r\n",
    "    {'Name': 'Robert Lewandowski', 'National_Position': 'LS', 'Rating': 90, 'Freekick_Accuracy': 76, 'Penalties': 81}, \r\n",
    "    {'Name': 'Gareth Bale', 'National_Position': 'RS', 'Rating': 90, 'Freekick_Accuracy': 85, 'Penalties': 76}, \r\n",
    "    {'Name': 'Zlatan Ibrahimović', 'National_Position': \"LS\", 'Rating': 90, 'Freekick_Accuracy': 82, 'Penalties': 91}, \r\n",
    "    {'Name': 'Thibaut Courtois', 'National_Position': 'GK', 'Rating': 89, 'Freekick_Accuracy': 11, 'Penalties': 27}, \r\n",
    "    {'Name': 'Jérôme Boateng', 'National_Position': 'RCB', 'Rating': 89, 'Freekick_Accuracy': 31, 'Penalties': 46}, \r\n",
    "    {'Name': 'Eden Hazard', 'National_Position': 'LF', 'Rating': 89, 'Freekick_Accuracy': 79, 'Penalties': 86}, \r\n",
    "    {'Name': 'Luka Modrić', 'National_Position': \"LS\", 'Rating': 89, 'Freekick_Accuracy': 77, 'Penalties': 80}\r\n",
    "]"
   ],
   "outputs": [],
   "metadata": {}
  },
  {
   "cell_type": "code",
   "execution_count": 31,
   "source": [
    "# create a new variable to store your dream team\r\n"
   ],
   "outputs": [],
   "metadata": {}
  },
  {
   "cell_type": "code",
   "execution_count": 32,
   "source": [
    "# loop through players and add players that meet the criteria to your dream team\r\n"
   ],
   "outputs": [],
   "metadata": {}
  },
  {
   "cell_type": "code",
   "execution_count": 33,
   "source": [
    "# print your dream team\r\n"
   ],
   "outputs": [
    {
     "output_type": "stream",
     "name": "stdout",
     "text": [
      "[{'Name': 'Lionel Messi', 'National_Position': 'RW', 'Rating': 93, 'Freekick_Accuracy': 90, 'Penalties': 74}, {'Name': 'Neymar', 'National_Position': 'LW', 'Rating': 92, 'Freekick_Accuracy': 84, 'Penalties': 81}, {'Name': 'Luis Suárez', 'National_Position': 'LS', 'Rating': 92, 'Freekick_Accuracy': 84, 'Penalties': 85}]\n"
     ]
    }
   ],
   "metadata": {}
  }
 ],
 "metadata": {
  "orig_nbformat": 4,
  "language_info": {
   "name": "python",
   "version": "3.6.13",
   "mimetype": "text/x-python",
   "codemirror_mode": {
    "name": "ipython",
    "version": 3
   },
   "pygments_lexer": "ipython3",
   "nbconvert_exporter": "python",
   "file_extension": ".py"
  },
  "kernelspec": {
   "name": "python3",
   "display_name": "Python 3.6.13 64-bit ('PythonData': conda)"
  },
  "interpreter": {
   "hash": "2b733aa7fedd49db484cedcfdc55e4d5fbcb89255481337c0d3e6f64eb4fdf0c"
  }
 },
 "nbformat": 4,
 "nbformat_minor": 2
}