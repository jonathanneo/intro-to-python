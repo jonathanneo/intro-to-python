{
 "cells": [
  {
   "cell_type": "markdown",
   "source": [
    "# Keep going\r\n",
    "\r\n",
    "Keep printing all odd numbers using a `while` loop until you get to the number 42.\r\n",
    "\r\n",
    "Use the modulo operation in python to determine whether a number is odd or even, for example: \r\n",
    "\r\n",
    "`10 % 2` returns `0` because it is divisible by 2. \r\n",
    "\r\n",
    "`13 % 2` returns `1` because it is not divisible by 2. "
   ],
   "metadata": {}
  },
  {
   "cell_type": "code",
   "execution_count": null,
   "source": [
    "# write your logic here\r\n"
   ],
   "outputs": [],
   "metadata": {}
  },
  {
   "cell_type": "markdown",
   "source": [
    "# Top scorers\r\n",
    "\r\n",
    "Get players who scored 5 or more goals in total"
   ],
   "metadata": {}
  },
  {
   "cell_type": "code",
   "execution_count": null,
   "source": [
    "players = [\r\n",
    "    {'Name': 'Cristiano Ronaldo', 'Goals_in_last_5_matches': [1, 3, 2, 1, 1]}, \r\n",
    "    {'Name': 'Lionel Messi', 'Goals_in_last_5_matches': [2, 2, 4, 2, 2]}, \r\n",
    "    {'Name': 'Neymar', 'Goals_in_last_5_matches': [0, 0, 2, 2, 1]}, \r\n",
    "    {'Name': 'Luis Suárez', 'Goals_in_last_5_matches': [0, 0, 0, 1, 1]}, \r\n",
    "    {'Name': 'Manuel Neuer', 'Goals_in_last_5_matches': [1, 1, 1, 1, 1]}, \r\n",
    "    {'Name': 'De Gea', 'Goals_in_last_5_matches': [0, 0, 0, 0, 0]}, \r\n",
    "    {'Name': 'Robert Lewandowski', 'Goals_in_last_5_matches': [1, 2, 0, 0, 1]}, \r\n",
    "    {'Name': 'Gareth Bale', 'Goals_in_last_5_matches': [0, 1, 1, 3, 1]}, \r\n",
    "    {'Name': 'Zlatan Ibrahimović', 'Goals_in_last_5_matches': [2, 1, 1, 1, 1]}, \r\n",
    "    {'Name': 'Thibaut Courtois', 'Goals_in_last_5_matches': [0, 0, 0, 0, 0]}, \r\n",
    "    {'Name': 'Jérôme Boateng', 'Goals_in_last_5_matches': [0, 0, 0, 0, 0]}, \r\n",
    "    {'Name': 'Eden Hazard', 'Goals_in_last_5_matches': [0, 0, 0, 0, 0]}, \r\n",
    "    {'Name': 'Luka Modrić', 'Goals_in_last_5_matches': [1, 1, 0, 1, 0]}\r\n",
    "]"
   ],
   "outputs": [],
   "metadata": {}
  },
  {
   "cell_type": "code",
   "execution_count": null,
   "source": [
    "# create new variable to store your top scorers\r\n"
   ],
   "outputs": [],
   "metadata": {}
  },
  {
   "cell_type": "code",
   "execution_count": null,
   "source": [
    "# write your logic here\r\n"
   ],
   "outputs": [],
   "metadata": {}
  },
  {
   "cell_type": "code",
   "execution_count": null,
   "source": [
    "# print out the top scorers\r\n"
   ],
   "outputs": [],
   "metadata": {}
  }
 ],
 "metadata": {
  "orig_nbformat": 4,
  "language_info": {
   "name": "python",
   "version": "3.6.13",
   "mimetype": "text/x-python",
   "codemirror_mode": {
    "name": "ipython",
    "version": 3
   },
   "pygments_lexer": "ipython3",
   "nbconvert_exporter": "python",
   "file_extension": ".py"
  },
  "kernelspec": {
   "name": "python3",
   "display_name": "Python 3.6.13 64-bit ('PythonData': conda)"
  },
  "interpreter": {
   "hash": "2b733aa7fedd49db484cedcfdc55e4d5fbcb89255481337c0d3e6f64eb4fdf0c"
  }
 },
 "nbformat": 4,
 "nbformat_minor": 2
}