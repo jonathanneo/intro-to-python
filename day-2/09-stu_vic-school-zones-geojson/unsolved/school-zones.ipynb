{
 "cells": [
  {
   "cell_type": "code",
   "execution_count": null,
   "source": [
    "import json\r\n",
    "import plotly.express as px\r\n",
    "from urllib.request import urlopen\r\n",
    "import pandas as pd"
   ],
   "outputs": [],
   "metadata": {}
  },
  {
   "cell_type": "code",
   "execution_count": null,
   "source": [
    "# geojson format specification: https://datatracker.ietf.org/doc/html/rfc7946\r\n",
    "# dataset url: https://intro-to-python-asdaf.s3.ap-southeast-2.amazonaws.com/vic_year_12_2022.geojson\r\n",
    "# original data source: https://data.gov.au/dataset/ds-vic-aa52df80-546b-42e4-a2f0-fb19fe6bbf21/details?q=school%20zones"
   ],
   "outputs": [],
   "metadata": {}
  },
  {
   "cell_type": "code",
   "execution_count": null,
   "source": [
    "# read data into dataframe"
   ],
   "outputs": [],
   "metadata": {}
  },
  {
   "cell_type": "code",
   "execution_count": null,
   "source": [
    "# choropleth map docs: https://plotly.github.io/plotly.py-docs/generated/plotly.express.choropleth_mapbox.html\r\n"
   ],
   "outputs": [],
   "metadata": {}
  }
 ],
 "metadata": {
  "orig_nbformat": 4,
  "language_info": {
   "name": "python",
   "version": "3.6.13",
   "mimetype": "text/x-python",
   "codemirror_mode": {
    "name": "ipython",
    "version": 3
   },
   "pygments_lexer": "ipython3",
   "nbconvert_exporter": "python",
   "file_extension": ".py"
  },
  "kernelspec": {
   "name": "python3",
   "display_name": "Python 3.6.13 64-bit ('PythonData': conda)"
  },
  "interpreter": {
   "hash": "2b733aa7fedd49db484cedcfdc55e4d5fbcb89255481337c0d3e6f64eb4fdf0c"
  }
 },
 "nbformat": 4,
 "nbformat_minor": 2
}