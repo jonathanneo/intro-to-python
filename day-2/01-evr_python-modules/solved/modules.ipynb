{
 "cells": [
  {
   "cell_type": "markdown",
   "source": [
    "# Modules\r\n",
    "\r\n",
    "### What are Modules? \r\n",
    "\r\n",
    "Python modules (also known as 'Libraries' or 'Packages') are bits of code that have been written by someone else. \r\n",
    "\r\n",
    "This reduces the need to write code from scratch by re-using existing code that someone else wrote. \r\n",
    "\r\n",
    "Here is a list of built-in modules that come with python: [https://docs.python.org/3/py-modindex.html](https://docs.python.org/3/py-modindex.html)\r\n",
    "\r\n",
    "And here is an even bigger list of external modules that are built by the python community: [https://pypi.org/](https://pypi.org/)\r\n",
    "\r\n",
    "To use a module, we need to perform two steps: \r\n",
    "1. Install the module (you can skip this step if you're using a built-in module)\r\n",
    "2. Import the module into your file (.py or .ipynb)"
   ],
   "metadata": {}
  },
  {
   "cell_type": "markdown",
   "source": [
    "## Using a built-in module\r\n",
    "\r\n",
    "To use a module, we first need to import it. "
   ],
   "metadata": {}
  },
  {
   "cell_type": "code",
   "execution_count": 2,
   "source": [
    "import math # import the built-in math module : https://docs.python.org/3/library/math.html#module-math"
   ],
   "outputs": [],
   "metadata": {}
  },
  {
   "cell_type": "markdown",
   "source": [
    "Once imported, we can use `functions` within a module by doing: \r\n",
    "\r\n",
    "`moduleName.functionName`\r\n",
    "\r\n",
    "For example: \r\n",
    "\r\n",
    "`math.ceil()`"
   ],
   "metadata": {}
  },
  {
   "cell_type": "code",
   "execution_count": 4,
   "source": [
    "# use math.ceil()"
   ],
   "outputs": [
    {
     "output_type": "execute_result",
     "data": {
      "text/plain": [
       "11"
      ]
     },
     "metadata": {},
     "execution_count": 4
    }
   ],
   "metadata": {}
  },
  {
   "cell_type": "code",
   "execution_count": 5,
   "source": [
    "# use math.pow()\r\n",
    "math.pow(2, 4)"
   ],
   "outputs": [
    {
     "output_type": "execute_result",
     "data": {
      "text/plain": [
       "16.0"
      ]
     },
     "metadata": {},
     "execution_count": 5
    }
   ],
   "metadata": {}
  },
  {
   "cell_type": "code",
   "execution_count": 11,
   "source": [
    "# use math.sqrt()\r\n",
    "math.sqrt(9)"
   ],
   "outputs": [
    {
     "output_type": "execute_result",
     "data": {
      "text/plain": [
       "3.0"
      ]
     },
     "metadata": {},
     "execution_count": 11
    }
   ],
   "metadata": {}
  },
  {
   "cell_type": "code",
   "execution_count": 10,
   "source": [
    "# what does the function do?\r\n",
    "# run ?math.sqrt\r\n",
    "?math.sqrt"
   ],
   "outputs": [
    {
     "output_type": "stream",
     "name": "stdout",
     "text": [
      "\u001b[1;31mDocstring:\u001b[0m\n",
      "sqrt(x)\n",
      "\n",
      "Return the square root of x.\n",
      "\u001b[1;31mType:\u001b[0m      builtin_function_or_method\n"
     ]
    }
   ],
   "metadata": {}
  },
  {
   "cell_type": "code",
   "execution_count": 17,
   "source": [
    "# what if we just want to import one function from the whole module?\r\n",
    "from math import sqrt\r\n",
    "math.sqrt(9)"
   ],
   "outputs": [
    {
     "output_type": "execute_result",
     "data": {
      "text/plain": [
       "3.0"
      ]
     },
     "metadata": {},
     "execution_count": 17
    }
   ],
   "metadata": {}
  },
  {
   "cell_type": "markdown",
   "source": [
    "## Using an external module\r\n",
    "\r\n",
    "First we need to install the module. We can do this in Jupyter Notebooks by running the following command: \r\n",
    "```\r\n",
    "!pip install pandas\r\n",
    "```"
   ],
   "metadata": {}
  },
  {
   "cell_type": "code",
   "execution_count": 12,
   "source": [
    "!pip install pandas"
   ],
   "outputs": [
    {
     "output_type": "stream",
     "name": "stdout",
     "text": [
      "Requirement already satisfied: pandas in c:\\users\\jonat\\anaconda3\\envs\\pythondata\\lib\\site-packages (1.1.5)\n",
      "Requirement already satisfied: python-dateutil>=2.7.3 in c:\\users\\jonat\\anaconda3\\envs\\pythondata\\lib\\site-packages (from pandas) (2.8.1)\n",
      "Requirement already satisfied: numpy>=1.15.4 in c:\\users\\jonat\\anaconda3\\envs\\pythondata\\lib\\site-packages (from pandas) (1.19.2)\n",
      "Requirement already satisfied: pytz>=2017.2 in c:\\users\\jonat\\anaconda3\\envs\\pythondata\\lib\\site-packages (from pandas) (2021.1)\n",
      "Requirement already satisfied: six>=1.5 in c:\\users\\jonat\\anaconda3\\envs\\pythondata\\lib\\site-packages (from python-dateutil>=2.7.3->pandas) (1.15.0)\n"
     ]
    }
   ],
   "metadata": {}
  },
  {
   "cell_type": "markdown",
   "source": [
    "After installing the module, we can import it as we did before with the built-in modules"
   ],
   "metadata": {}
  },
  {
   "cell_type": "code",
   "execution_count": 13,
   "source": [
    "import pandas"
   ],
   "outputs": [],
   "metadata": {}
  },
  {
   "cell_type": "code",
   "execution_count": 15,
   "source": [
    "pandas # running pandas shows us where pandas has been installed to"
   ],
   "outputs": [
    {
     "output_type": "execute_result",
     "data": {
      "text/plain": [
       "<module 'pandas' from 'C:\\\\Users\\\\jonat\\\\anaconda3\\\\envs\\\\PythonData\\\\lib\\\\site-packages\\\\pandas\\\\__init__.py'>"
      ]
     },
     "metadata": {},
     "execution_count": 15
    }
   ],
   "metadata": {}
  },
  {
   "cell_type": "markdown",
   "source": [
    "We can also alias (give a shorter name) the module by using the `as` keyword.\r\n",
    "\r\n",
    "This is often done in practice to reduce the number of words we have to write. \r\n",
    "\r\n",
    "For example, a common alias for `pandas` is `pd`. "
   ],
   "metadata": {}
  },
  {
   "cell_type": "code",
   "execution_count": 16,
   "source": [
    "import pandas as pd\r\n",
    "pd"
   ],
   "outputs": [
    {
     "output_type": "execute_result",
     "data": {
      "text/plain": [
       "<module 'pandas' from 'C:\\\\Users\\\\jonat\\\\anaconda3\\\\envs\\\\PythonData\\\\lib\\\\site-packages\\\\pandas\\\\__init__.py'>"
      ]
     },
     "metadata": {},
     "execution_count": 16
    }
   ],
   "metadata": {}
  }
 ],
 "metadata": {
  "orig_nbformat": 4,
  "language_info": {
   "name": "python",
   "version": "3.6.13",
   "mimetype": "text/x-python",
   "codemirror_mode": {
    "name": "ipython",
    "version": 3
   },
   "pygments_lexer": "ipython3",
   "nbconvert_exporter": "python",
   "file_extension": ".py"
  },
  "kernelspec": {
   "name": "python3",
   "display_name": "Python 3.6.13 64-bit ('PythonData': conda)"
  },
  "interpreter": {
   "hash": "2b733aa7fedd49db484cedcfdc55e4d5fbcb89255481337c0d3e6f64eb4fdf0c"
  }
 },
 "nbformat": 4,
 "nbformat_minor": 2
}