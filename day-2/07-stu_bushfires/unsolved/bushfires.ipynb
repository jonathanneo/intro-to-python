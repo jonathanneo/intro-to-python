{
 "cells": [
  {
   "cell_type": "code",
   "execution_count": null,
   "source": [
    "import pandas as pd\r\n",
    "import plotly.express as px"
   ],
   "outputs": [],
   "metadata": {}
  },
  {
   "cell_type": "code",
   "execution_count": null,
   "source": [
    "# read the data\r\n",
    "# data originally from: https://www.kaggle.com/nagarajbhat/australian-bush-fire-satellite-data-nasa?select=fire_nrt_M6_101673.csv\r\n",
    "df = pd.read_csv(\"https://intro-to-python-asdaf.s3.ap-southeast-2.amazonaws.com/fire_and_thermal_anomalies.csv\")"
   ],
   "outputs": [],
   "metadata": {}
  },
  {
   "cell_type": "code",
   "execution_count": null,
   "source": [
    "# add a column for the color red "
   ],
   "outputs": [],
   "metadata": {}
  },
  {
   "cell_type": "code",
   "execution_count": null,
   "source": [
    "# documentation for scatter_mapbox: https://plotly.github.io/plotly.py-docs/generated/plotly.express.scatter_mapbox.html\r\n",
    "# turn the markers red by using the additional argument: color_discrete_sequence=df[\"color\"]\r\n"
   ],
   "outputs": [],
   "metadata": {}
  },
  {
   "cell_type": "code",
   "execution_count": null,
   "source": [
    "# bonus: read the docs on how to use animation_frame, and use it with an available date column\r\n"
   ],
   "outputs": [],
   "metadata": {}
  }
 ],
 "metadata": {
  "orig_nbformat": 4,
  "language_info": {
   "name": "python",
   "version": "3.6.13",
   "mimetype": "text/x-python",
   "codemirror_mode": {
    "name": "ipython",
    "version": 3
   },
   "pygments_lexer": "ipython3",
   "nbconvert_exporter": "python",
   "file_extension": ".py"
  },
  "kernelspec": {
   "name": "python3",
   "display_name": "Python 3.6.13 64-bit ('PythonData': conda)"
  },
  "interpreter": {
   "hash": "2b733aa7fedd49db484cedcfdc55e4d5fbcb89255481337c0d3e6f64eb4fdf0c"
  }
 },
 "nbformat": 4,
 "nbformat_minor": 2
}