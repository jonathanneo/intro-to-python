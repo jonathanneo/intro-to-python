{
 "cells": [
  {
   "cell_type": "markdown",
   "source": [
    "# Challenge\r\n",
    "\r\n",
    "You are working as a Data Analyst for a Video Game Developer, and the company is deciding on what game they should focus their efforts on. \r\n",
    "\r\n",
    "You are provided with a dataset of all video game sales and are tasked with answering the questions below: \r\n",
    "\r\n",
    "1. Which genre should we focus our next game on?\r\n",
    "2. Which platform should we focus our next game on? \r\n",
    "3. Which platform and genre should we focus our next game on? \r\n",
    "4. Which year was the best year to have sold video games? \r\n",
    "5. What are some outliers of video games?\r\n"
   ],
   "metadata": {}
  },
  {
   "cell_type": "code",
   "execution_count": null,
   "source": [
    "# !pip install plotly "
   ],
   "outputs": [],
   "metadata": {}
  },
  {
   "cell_type": "code",
   "execution_count": null,
   "source": [
    "import pandas as pd\r\n",
    "import plotly.express as px # import plotly express as px"
   ],
   "outputs": [],
   "metadata": {}
  },
  {
   "cell_type": "code",
   "execution_count": null,
   "source": [
    "# read in the dataset\r\n",
    "df = pd.read_csv(\"https://intro-to-python-asdaf.s3.ap-southeast-2.amazonaws.com/vgsales.csv\")"
   ],
   "outputs": [],
   "metadata": {}
  },
  {
   "cell_type": "code",
   "execution_count": null,
   "source": [
    "# show the df \r\n",
    "df.head()"
   ],
   "outputs": [],
   "metadata": {}
  },
  {
   "cell_type": "markdown",
   "source": [
    "### Which genre should we focus our next game on? "
   ],
   "metadata": {}
  },
  {
   "cell_type": "code",
   "execution_count": null,
   "source": [
    "# create a bar plot of global sales by genre"
   ],
   "outputs": [],
   "metadata": {}
  },
  {
   "cell_type": "markdown",
   "source": [
    "### Which platfrom should we focus our next game on? "
   ],
   "metadata": {}
  },
  {
   "cell_type": "code",
   "execution_count": null,
   "source": [
    "# create a bar plot of global sales by genre"
   ],
   "outputs": [],
   "metadata": {}
  },
  {
   "cell_type": "markdown",
   "source": [
    "### Which platform and genre should we focus our next game on? "
   ],
   "metadata": {}
  },
  {
   "cell_type": "code",
   "execution_count": null,
   "source": [
    "# create a bar plot of global sales by genre and platform. \r\n",
    "# tip: when creating the bar plot, place genre into colors"
   ],
   "outputs": [],
   "metadata": {}
  },
  {
   "cell_type": "markdown",
   "source": [
    "### Which year was the best year to have sold video games? "
   ],
   "metadata": {}
  },
  {
   "cell_type": "code",
   "execution_count": null,
   "source": [
    "# create a line plot of global sales by year\r\n",
    "# what year was the highest year?"
   ],
   "outputs": [],
   "metadata": {}
  },
  {
   "cell_type": "markdown",
   "source": [
    "### What are some outliers of video games?"
   ],
   "metadata": {}
  },
  {
   "cell_type": "code",
   "execution_count": null,
   "source": [
    "# create a scatter plot to observe any outliers in the data\r\n",
    "# refer to scatter plot examples here: https://plotly.com/python/line-and-scatter/\r\n",
    "# tip: include the hover_data argument \r\n",
    "px.scatter(df, x=\"Year\", y=\"Global_Sales\", hover_data=[\"Name\", \"Platform\"])"
   ],
   "outputs": [],
   "metadata": {}
  }
 ],
 "metadata": {
  "orig_nbformat": 4,
  "language_info": {
   "name": "python",
   "version": "3.6.13",
   "mimetype": "text/x-python",
   "codemirror_mode": {
    "name": "ipython",
    "version": 3
   },
   "pygments_lexer": "ipython3",
   "nbconvert_exporter": "python",
   "file_extension": ".py"
  },
  "kernelspec": {
   "name": "python3",
   "display_name": "Python 3.6.13 64-bit ('PythonData': conda)"
  },
  "interpreter": {
   "hash": "2b733aa7fedd49db484cedcfdc55e4d5fbcb89255481337c0d3e6f64eb4fdf0c"
  }
 },
 "nbformat": 4,
 "nbformat_minor": 2
}