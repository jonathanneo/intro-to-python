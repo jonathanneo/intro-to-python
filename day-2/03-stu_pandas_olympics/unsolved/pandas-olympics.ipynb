{
 "cells": [
  {
   "cell_type": "code",
   "execution_count": null,
   "source": [
    "import pandas as pd"
   ],
   "outputs": [],
   "metadata": {}
  },
  {
   "cell_type": "code",
   "execution_count": null,
   "source": [
    "# read '2016_athlete_events.csv' into a DataFrame\r\n",
    "df = pd.read_csv(\"https://intro-to-python-asdaf.s3.ap-southeast-2.amazonaws.com/2016_athlete_events.csv\")"
   ],
   "outputs": [],
   "metadata": {}
  },
  {
   "cell_type": "code",
   "execution_count": null,
   "source": [
    "# obtain the count of the number of gold medals \r\n",
    "\r\n",
    "# obtain the count of the number of silver medals \r\n",
    "\r\n",
    "# obtain the count of the number of bronze medals \r\n",
    "\r\n",
    "# obtain the count of the number of no medals using .isna()\r\n",
    "\r\n",
    "# print all the counts\r\n"
   ],
   "outputs": [],
   "metadata": {}
  },
  {
   "cell_type": "code",
   "execution_count": null,
   "source": [
    "# get the unique list of sports using .unique()"
   ],
   "outputs": [],
   "metadata": {}
  },
  {
   "cell_type": "code",
   "execution_count": null,
   "source": [
    "# get the unique list of events in Cycling using .unique()"
   ],
   "outputs": [],
   "metadata": {}
  },
  {
   "cell_type": "code",
   "execution_count": null,
   "source": [
    "# get the gold medalist for the 'Cycling Women's Individual Time Trial' event "
   ],
   "outputs": [],
   "metadata": {}
  },
  {
   "cell_type": "code",
   "execution_count": null,
   "source": [
    "# get the gold medalist for the 'Cycling Men's Individual Time Trial' event "
   ],
   "outputs": [],
   "metadata": {}
  },
  {
   "cell_type": "code",
   "execution_count": null,
   "source": [
    "# sort the gold medalist team by weight from highest to lowest for the event 'Cycling Men's Team Pursuit, 4,000 metres'"
   ],
   "outputs": [],
   "metadata": {}
  },
  {
   "cell_type": "code",
   "execution_count": null,
   "source": [
    "# sort the gold medalist team by weight from lowest to highest for the event 'Cycling Women's Team Pursuit'"
   ],
   "outputs": [],
   "metadata": {}
  },
  {
   "cell_type": "code",
   "execution_count": null,
   "source": [
    "# get the bronze medalist for \"Archery Women's Individual\" event \r\n",
    "# select only Name, Sex, Age, Height, Weight, Team columns"
   ],
   "outputs": [],
   "metadata": {}
  },
  {
   "cell_type": "code",
   "execution_count": null,
   "source": [
    "# get the bronze medalist for \"Archery Men's Individual\" event \r\n",
    "# select only Name, Sex, Age, Height, Weight, Team columns"
   ],
   "outputs": [],
   "metadata": {}
  }
 ],
 "metadata": {
  "orig_nbformat": 4,
  "language_info": {
   "name": "python",
   "version": "3.6.13",
   "mimetype": "text/x-python",
   "codemirror_mode": {
    "name": "ipython",
    "version": 3
   },
   "pygments_lexer": "ipython3",
   "nbconvert_exporter": "python",
   "file_extension": ".py"
  },
  "kernelspec": {
   "name": "python3",
   "display_name": "Python 3.6.13 64-bit ('PythonData': conda)"
  },
  "interpreter": {
   "hash": "2b733aa7fedd49db484cedcfdc55e4d5fbcb89255481337c0d3e6f64eb4fdf0c"
  }
 },
 "nbformat": 4,
 "nbformat_minor": 2
}