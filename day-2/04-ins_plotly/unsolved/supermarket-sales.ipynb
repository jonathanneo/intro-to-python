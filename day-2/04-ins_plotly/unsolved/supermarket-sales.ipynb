{
 "cells": [
  {
   "cell_type": "code",
   "execution_count": null,
   "source": [
    "import pandas as pd \r\n",
    "import plotly.express as px"
   ],
   "outputs": [],
   "metadata": {}
  },
  {
   "cell_type": "code",
   "execution_count": null,
   "source": [
    "# read CSV as dataframe\r\n",
    "df = pd.read_csv(\"https://intro-to-python-asdaf.s3.ap-southeast-2.amazonaws.com/supermarket_sales.csv\")"
   ],
   "outputs": [],
   "metadata": {}
  },
  {
   "cell_type": "code",
   "execution_count": null,
   "source": [
    "# inspect the data using df.head()\r\n"
   ],
   "outputs": [],
   "metadata": {}
  },
  {
   "cell_type": "markdown",
   "source": [
    "# Group By\r\n",
    "\r\n",
    "Aggregate data BY a column. \r\n",
    "\r\n",
    "### How?\r\n",
    "\r\n",
    "1. Group your data by a specific column by using the `.groupby()` function. \r\n",
    "2. Aggregate data using one of the Pandas aggregation functions below: \r\n",
    "    - `count()` – Number of non-null observations\r\n",
    "    - `sum()` – Sum of values\r\n",
    "    - `mean()` – Mean of values\r\n",
    "    - `median()` – Arithmetic median of values\r\n",
    "    - `min()` – Minimum\r\n",
    "    - `max()` – Maximum\r\n",
    "    - `mode()` – Mode\r\n",
    "    - `std()` – Standard deviation\r\n",
    "    - `var()` – Variance\r\n",
    "3. Optionally, use the `.reset_index()` function to switch the specified column from an index to a column. "
   ],
   "metadata": {}
  },
  {
   "cell_type": "code",
   "execution_count": null,
   "source": [
    "# 1. Use groupby"
   ],
   "outputs": [],
   "metadata": {}
  },
  {
   "cell_type": "code",
   "execution_count": null,
   "source": [
    "# 2. Use groupby with an aggregation function e.g. sum()"
   ],
   "outputs": [],
   "metadata": {}
  },
  {
   "cell_type": "code",
   "execution_count": null,
   "source": [
    "# 3. Use groupby with an aggregation function e.g. sum() and reset_index()"
   ],
   "outputs": [],
   "metadata": {}
  },
  {
   "cell_type": "code",
   "execution_count": null,
   "source": [
    "# save the full example to a new dataframe "
   ],
   "outputs": [],
   "metadata": {}
  },
  {
   "cell_type": "code",
   "execution_count": null,
   "source": [
    "# bar plot of total sales by city"
   ],
   "outputs": [],
   "metadata": {}
  },
  {
   "cell_type": "code",
   "execution_count": null,
   "source": [
    "# bar plot of total sales by product line and customer type"
   ],
   "outputs": [],
   "metadata": {}
  },
  {
   "cell_type": "code",
   "execution_count": null,
   "source": [
    "# line plot of total sales by date "
   ],
   "outputs": [],
   "metadata": {}
  }
 ],
 "metadata": {
  "orig_nbformat": 4,
  "language_info": {
   "name": "python",
   "version": "3.6.13",
   "mimetype": "text/x-python",
   "codemirror_mode": {
    "name": "ipython",
    "version": 3
   },
   "pygments_lexer": "ipython3",
   "nbconvert_exporter": "python",
   "file_extension": ".py"
  },
  "kernelspec": {
   "name": "python3",
   "display_name": "Python 3.6.13 64-bit ('PythonData': conda)"
  },
  "interpreter": {
   "hash": "2b733aa7fedd49db484cedcfdc55e4d5fbcb89255481337c0d3e6f64eb4fdf0c"
  }
 },
 "nbformat": 4,
 "nbformat_minor": 2
}