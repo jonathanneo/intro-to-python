{
 "cells": [
  {
   "cell_type": "markdown",
   "source": [
    "# Pandas\r\n",
    "\r\n",
    "What is pandas? \r\n",
    "\r\n",
    "1. Browse the pandas docs here: [https://pandas.pydata.org/docs/getting_started/index.html#getting-started](https://pandas.pydata.org/docs/getting_started/index.html#getting-started)\r\n",
    "2. Most people would be familar with Excel, so the easiest way to understand pandas is by comparing it to excel: [https://pandas.pydata.org/docs/getting_started/comparison/comparison_with_spreadsheets.html#compare-with-spreadsheets](https://pandas.pydata.org/docs/getting_started/comparison/comparison_with_spreadsheets.html#compare-with-spreadsheets)"
   ],
   "metadata": {}
  },
  {
   "cell_type": "code",
   "execution_count": null,
   "source": [
    "import pandas as pd"
   ],
   "outputs": [],
   "metadata": {}
  },
  {
   "cell_type": "markdown",
   "source": [
    "We are now going to read in a CSV into a DataFrame. A DataFrame is similar to a table or worksheet in Excel. \r\n",
    "\r\n",
    "Reading a CSV can be done by executing `pd.read_csv(\"path_to_your_file.csv\")`\r\n",
    "\r\n",
    "Run the cell below and notice the following: \r\n",
    "1. The data is formatted as a table (similar to excel)\r\n",
    "2. We have an index column (the first column without a name and starts from 0) which is similar to the row number in excel\r\n",
    "3. We have column headers (similar to excel)"
   ],
   "metadata": {}
  },
  {
   "cell_type": "code",
   "execution_count": null,
   "source": [
    "# read a CSV into a DataFrame\r\n",
    "pd.read_csv(\"https://raw.githubusercontent.com/pandas-dev/pandas/master/pandas/tests/io/data/csv/tips.csv\")"
   ],
   "outputs": [],
   "metadata": {}
  },
  {
   "cell_type": "code",
   "execution_count": null,
   "source": [
    "# we often like to read store the DataFrame as a variable so that we can access it later"
   ],
   "outputs": [],
   "metadata": {}
  },
  {
   "cell_type": "code",
   "execution_count": null,
   "source": [
    "# show  the first 5 rows\r\n"
   ],
   "outputs": [],
   "metadata": {}
  },
  {
   "cell_type": "code",
   "execution_count": null,
   "source": [
    "# show the last 5 rows\r\n"
   ],
   "outputs": [],
   "metadata": {}
  },
  {
   "cell_type": "code",
   "execution_count": null,
   "source": [
    "# selecting only \"total_bill\" and \"tip\" columns \r\n"
   ],
   "outputs": [],
   "metadata": {}
  },
  {
   "cell_type": "code",
   "execution_count": null,
   "source": [
    "# creating a new column: \"total_bill_with_tip\" = \"total_bill\" + \"tip\"\r\n"
   ],
   "outputs": [],
   "metadata": {}
  },
  {
   "cell_type": "code",
   "execution_count": null,
   "source": [
    "# creating a new column called \"double_bill\" = \"total_bill\" * 2\r\n"
   ],
   "outputs": [],
   "metadata": {}
  },
  {
   "cell_type": "markdown",
   "source": [
    "# Filtering\r\n",
    "In Excel, filtering is done through a graphical menu.\r\n",
    "\r\n",
    "![filter_img](../resources/filter.png)"
   ],
   "metadata": {}
  },
  {
   "cell_type": "markdown",
   "source": [
    "The below statement is simply passing a Series of True/False objects to the DataFrame, returning all rows with True."
   ],
   "metadata": {}
  },
  {
   "cell_type": "code",
   "execution_count": null,
   "source": [
    "# similarly, we can filter our DataFrame by doing: \r\n"
   ],
   "outputs": [],
   "metadata": {}
  },
  {
   "cell_type": "code",
   "execution_count": null,
   "source": [
    "# we can filter with multiple conditions by doing: "
   ],
   "outputs": [],
   "metadata": {}
  },
  {
   "cell_type": "markdown",
   "source": [
    "# If/then logic\r\n",
    "Let’s say we want to make a bucket column with values of low and high, based on whether the total_bill is less or more than $10.\r\n",
    "\r\n",
    "In spreadsheets, logical comparison can be done with conditional formulas. We’d use a formula of =IF(A2 < 10, \"low\", \"high\"), dragged to all cells in a new bucket column.\r\n",
    "\r\n",
    "![conditional](../resources/conditional.png)\r\n"
   ],
   "metadata": {}
  },
  {
   "cell_type": "code",
   "execution_count": null,
   "source": [
    "import numpy as np # we need to use another library called numpy"
   ],
   "outputs": [],
   "metadata": {}
  },
  {
   "cell_type": "code",
   "execution_count": null,
   "source": [
    "# perform the if/then statement by using np.where()\r\n"
   ],
   "outputs": [],
   "metadata": {}
  },
  {
   "cell_type": "code",
   "execution_count": null,
   "source": [
    "# we can drop a column by doing\r\n",
    "\r\n",
    "# axis=1 tells pandas to drop \"double_bill\" from the columns"
   ],
   "outputs": [],
   "metadata": {}
  },
  {
   "cell_type": "code",
   "execution_count": null,
   "source": [
    "# we can rename a column by passing in a key-value pair that contains: {'from': 'to'}\r\n"
   ],
   "outputs": [],
   "metadata": {}
  },
  {
   "cell_type": "code",
   "execution_count": null,
   "source": [
    "# finally, we can sort a DataFrame by doing\r\n",
    "\r\n",
    "# sort by lowest to highest bill by default"
   ],
   "outputs": [],
   "metadata": {}
  },
  {
   "cell_type": "code",
   "execution_count": null,
   "source": [
    "# sort by highest to lowest"
   ],
   "outputs": [],
   "metadata": {}
  }
 ],
 "metadata": {
  "orig_nbformat": 4,
  "language_info": {
   "name": "python",
   "version": "3.6.13",
   "mimetype": "text/x-python",
   "codemirror_mode": {
    "name": "ipython",
    "version": 3
   },
   "pygments_lexer": "ipython3",
   "nbconvert_exporter": "python",
   "file_extension": ".py"
  },
  "kernelspec": {
   "name": "python3",
   "display_name": "Python 3.6.13 64-bit ('PythonData': conda)"
  },
  "interpreter": {
   "hash": "2b733aa7fedd49db484cedcfdc55e4d5fbcb89255481337c0d3e6f64eb4fdf0c"
  }
 },
 "nbformat": 4,
 "nbformat_minor": 2
}